{
 "cells": [
  {
   "cell_type": "markdown",
   "metadata": {},
   "source": [
    "# Clusters and Large Scale Structure\n",
    "\n",
    "## Authors\n",
    "B.W. Holwerda\n",
    "\n",
    "## Learning Goals\n",
    "* Large scale structure: voids, clusters.\n",
    "* Morphology-density relation\n",
    "\n",
    "## Keywords\n",
    "2MASS, Large Scale Structure, Density indicators.\n",
    "\n",
    "## Companion Content\n",
    "Ryden & Peterson's \"Foundations in Astrophysics\" \n",
    "\n",
    "## Summary\n",
    "Galaxies like other galaxies. We will use the Two Micron All-Sky Survey (2MASS) to map the large scale structure around us.\n",
    "\n",
    "1. load the 2MASS catalog and select all galaxies within a declination range (use np.where).\n",
    "2. plot the position of RA and z in a polar plot and in a RA-z plot.\n",
    "3. identify large scale structures: cluster, void, wall and 'finger of God' \n",
    "4. color-code central and satellite galaxies.\n",
    "\n",
    "\n",
    "<hr>"
   ]
  },
  {
   "cell_type": "markdown",
   "metadata": {},
   "source": [
    "\n",
    "## Student Name and ID:\n",
    "\n",
    "\n",
    "\n",
    "## Date:\n",
    "\n",
    "<hr>"
   ]
  },
  {
   "cell_type": "markdown",
   "metadata": {},
   "source": [
    "## Exercise 1: plot the 2MASS environmental catalog "
   ]
  },
  {
   "cell_type": "code",
   "execution_count": 4,
   "metadata": {},
   "outputs": [
    {
     "name": "stdout",
     "output_type": "stream",
     "text": [
      "name:\n",
      "    ['ID', 'RA', 'DEC', 'KCMAG', 'HCMAG', 'JCMAG', 'KTMAG', 'HTMAG', 'JTMAG', 'E_KCMAG', 'E_HCMAG', 'E_JCMAG', 'E_KTMAG', 'E_HTMAG', 'E_JTMAG', 'CZ', 'CENSAT', 'GROUPMASS', 'NUMDENS', 'NDIST']\n",
      "format:\n",
      "    ['16A', 'D', 'D', 'D', 'D', 'D', 'D', 'D', 'D', 'D', 'D', 'D', 'D', 'D', 'D', 'D', 'I', 'D', 'D', 'D']\n",
      "unit:\n",
      "    ['', '', '', '', '', '', '', '', '', '', '', '', '', '', '', '', '', '', '', '']\n",
      "null:\n",
      "    ['', '', '', '', '', '', '', '', '', '', '', '', '', '', '', '', '', '', '', '']\n",
      "bscale:\n",
      "    ['', '', '', '', '', '', '', '', '', '', '', '', '', '', '', '', '', '', '', '']\n",
      "bzero:\n",
      "    ['', '', '', '', '', '', '', '', '', '', '', '', '', '', '', '', '', '', '', '']\n",
      "disp:\n",
      "    ['', '', '', '', '', '', '', '', '', '', '', '', '', '', '', '', '', '', '', '']\n",
      "start:\n",
      "    ['', '', '', '', '', '', '', '', '', '', '', '', '', '', '', '', '', '', '', '']\n",
      "dim:\n",
      "    ['', '', '', '', '', '', '', '', '', '', '', '', '', '', '', '', '', '', '', '']\n",
      "coord_type:\n",
      "    ['', '', '', '', '', '', '', '', '', '', '', '', '', '', '', '', '', '', '', '']\n",
      "coord_unit:\n",
      "    ['', '', '', '', '', '', '', '', '', '', '', '', '', '', '', '', '', '', '', '']\n",
      "coord_ref_point:\n",
      "    ['', '', '', '', '', '', '', '', '', '', '', '', '', '', '', '', '', '', '', '']\n",
      "coord_ref_value:\n",
      "    ['', '', '', '', '', '', '', '', '', '', '', '', '', '', '', '', '', '', '', '']\n",
      "coord_inc:\n",
      "    ['', '', '', '', '', '', '', '', '', '', '', '', '', '', '', '', '', '', '', '']\n",
      "time_ref_pos:\n",
      "    ['', '', '', '', '', '', '', '', '', '', '', '', '', '', '', '', '', '', '', '']\n"
     ]
    }
   ],
   "source": [
    "from astropy.table import Table\n",
    "import numpy as np\n",
    "import matplotlib.pyplot as plt\n",
    "from pylab import *\n",
    "from astropy.io import ascii\n",
    "\n",
    "#data = ascii.read(\"2mass_envir.txt\")  \n",
    "#print(data)\n",
    "\n",
    "from astropy.io import fits\n",
    "hdul = fits.open('2mass_envir.fits')\n",
    "data = hdul[1].data\n",
    "cols = hdul[1].columns\n",
    "cols.info()\n",
    "\n",
    "ra = data['ra']\n",
    "dec = data['dec']\n",
    "cz = data['CZ']\n",
    "censat = data['CENSAT']\n",
    "groupmass = data['GROUPMASS']\n",
    "numberdensity = data['NUMDENS'] \n",
    "distanceto4thneighbor = data['NDIST']\n",
    "\n",
    "# have Ra go from -180 to 180\n",
    "ra-= 180\n",
    "\n",
    "\n",
    "####\n",
    "\n",
    "slice1 = np.where(np.abs(dec)<3.)\n",
    "\n",
    "slice2 = np.where((dec>10.)&(dec<15))\n",
    "\n",
    "# student work here:\n"
   ]
  },
  {
   "cell_type": "markdown",
   "metadata": {},
   "source": [
    "## Exercise 1.1 - plot the RA and Redshift of all the galaxies in two RA/DEC slices"
   ]
  },
  {
   "cell_type": "code",
   "execution_count": 5,
   "metadata": {},
   "outputs": [],
   "source": [
    "\n",
    "# student work here\n",
    "\n"
   ]
  },
  {
   "cell_type": "markdown",
   "metadata": {},
   "source": [
    "## 1.2 What do you see in these two slices. Describe what would be different in another slice."
   ]
  },
  {
   "cell_type": "markdown",
   "metadata": {},
   "source": [
    "*your answer here*"
   ]
  },
  {
   "cell_type": "markdown",
   "metadata": {},
   "source": [
    "## Exercise 1.3 Different projections. \n",
    "\n",
    "Try one of the different projections of RA & DEC. For all-sky surveys and projections see: \n",
    "https://matplotlib.org/gallery/subplots_axes_and_figures/geo_demo.html\n",
    "    \n",
    "    *Note: for the Mollweide and other projections, you may have to use radians (not degrees! multiply ra by np.pi/180 and dec by np.pi/90). \n",
    "    \n",
    "* Plot a slice in redshift and discuss. Are there preferred parts of the sky in your redshift slice?\n",
    "    \n",
    "* Plot two different reshift slices. Is there still a preferred direction?"
   ]
  },
  {
   "cell_type": "code",
   "execution_count": 6,
   "metadata": {},
   "outputs": [],
   "source": [
    "\n",
    "zslice1 = np.where((cz>2000)&(cz<4000))\n",
    "zslice2 = np.where((cz>4000)&(cz<6000))# &(dec>10.)&(dec<15)&(ra>10.)&(ra<15))\n",
    "\n",
    "# student work here:\n",
    "\n"
   ]
  },
  {
   "cell_type": "markdown",
   "metadata": {},
   "source": [
    "## Exercise 2 Environmental Parameters\n",
    "\n",
    "The 2MASS catalog we are using has environmental values such as local density, group mass, 4th nearest neighbor distance and whether or no the galaxy is considered a central galaxy or a satellite."
   ]
  },
  {
   "cell_type": "markdown",
   "metadata": {},
   "source": [
    "## Exercise 2.1 - plot central and satellite galaxies. \n",
    "\n",
    "using a projection from the previous exercise, plot all the central and satellite galaxies in 2MASS on the sky.\n",
    "\n",
    "What can you determine about the relative numbers of centrals and satellites?"
   ]
  },
  {
   "cell_type": "code",
   "execution_count": 7,
   "metadata": {},
   "outputs": [],
   "source": [
    "centrals = np.where(censat>0.5)\n",
    "satellites = np.where(censat<0.5)\n",
    "\n",
    "\n"
   ]
  },
  {
   "cell_type": "markdown",
   "metadata": {},
   "source": [
    "*your interpretation here*"
   ]
  },
  {
   "cell_type": "markdown",
   "metadata": {},
   "source": [
    "## Exercise 2.2 - Using the two density parameters as the color scale, plot RA & DEC on the sky. \n",
    "\n",
    "use:\n",
    "plt.scatter(ra, dec,s=10,c=numberdensity, lw=0,cmap=plt.cm.rainbow,vmin=0,vmax=40)\n",
    "and\n",
    "plt.colorbar()\n",
    "\n",
    "to plot the color scale\n",
    "\n",
    "Compare the *numberdensity* and *distanceto4thneighbor* parameters and compare."
   ]
  },
  {
   "cell_type": "code",
   "execution_count": 8,
   "metadata": {},
   "outputs": [],
   "source": [
    "#student work\n"
   ]
  },
  {
   "cell_type": "code",
   "execution_count": 9,
   "metadata": {},
   "outputs": [],
   "source": [
    "# student work"
   ]
  },
  {
   "cell_type": "markdown",
   "metadata": {},
   "source": [
    "## Discuss the differences in these two indicators. Which seem work for large scale structure?"
   ]
  },
  {
   "cell_type": "markdown",
   "metadata": {},
   "source": [
    "*your answer here*"
   ]
  },
  {
   "cell_type": "markdown",
   "metadata": {},
   "source": [
    "## References\n",
    "\n",
    "McGee+ (2013) - http://adsabs.harvard.edu/abs/2013MNRAS.436.2708M\n"
   ]
  }
 ],
 "metadata": {
  "kernelspec": {
   "display_name": "Python 3",
   "language": "python",
   "name": "python3"
  },
  "language_info": {
   "codemirror_mode": {
    "name": "ipython",
    "version": 3
   },
   "file_extension": ".py",
   "mimetype": "text/x-python",
   "name": "python",
   "nbconvert_exporter": "python",
   "pygments_lexer": "ipython3",
   "version": "3.5.4"
  }
 },
 "nbformat": 4,
 "nbformat_minor": 2
}
