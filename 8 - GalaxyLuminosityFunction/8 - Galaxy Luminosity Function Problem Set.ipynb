{
 "cells": [
  {
   "cell_type": "markdown",
   "metadata": {},
   "source": [
    "# The Galaxy Luminosity Function\n",
    "\n",
    "## Authors\n",
    "B.W. Holwerda\n",
    "\n",
    "## Learning Goals\n",
    "* Understand Survey limits\n",
    "* Link between redshift and apparent magnitude\n",
    "* Logarithmic axes\n",
    "* Volume and completeness correction\n",
    "\n",
    "## Keywords\n",
    "Galaxies, Luminosity Function, Malmquist bias, volume correction.\n",
    "\n",
    "## Companion Content\n",
    "Ryden & Peterson's \"Foundations in Astrophysics\" \n",
    "\n",
    "## Summary\n",
    "\n",
    "\n",
    "<hr>"
   ]
  },
  {
   "cell_type": "markdown",
   "metadata": {},
   "source": [
    "\n",
    "## Student Name and ID:\n",
    "\n",
    "\n",
    "\n",
    "## Date:\n",
    "\n",
    "<hr>"
   ]
  },
  {
   "cell_type": "markdown",
   "metadata": {},
   "source": [
    "This exercise uses the 2 Micron All-Sky Survey (2MASS) database to generate an idea of how many galaxies of different luminosities there are in the local Universe. We will learn how the limits of the survey set the volume representative for each galaxy. \n",
    "\n",
    "1. read in the 2MASS file \n",
    "\n",
    "2. plot a histogram of the apparent luminosities in J-band \n",
    "\n",
    "3. plot the redshift of these galaxies and their apparent magnitude. What do you notice? \n",
    "\n",
    "3. use the redshift to get a luminosity distance and absolute J-band luminosities. Plot this histogram. Which kind of galaxy are there the most of? \n",
    "\n",
    "4. Using this plot, explain the Malmquist bias in this selection.\n",
    "\n",
    "5. To correct for our selection biases, we will define the volume over which we *could have detected* each galaxy. \n",
    "The limiting magnitude of 2MASS is 15.0 for extended sources (i.e. galaxies). \n",
    "How do we define limiting distance for each galaxy if the limiting apparent magnitude for the survey is m=15?\n",
    "How big a volume (sphere) does that correspond to?\n",
    "\n",
    "\n",
    "\n"
   ]
  },
  {
   "cell_type": "code",
   "execution_count": 2,
   "metadata": {},
   "outputs": [
    {
     "name": "stdout",
     "output_type": "stream",
     "text": [
      "name:\n",
      "    ['ID', 'RA', 'DEC', 'KCMAG', 'HCMAG', 'JCMAG', 'KTMAG', 'HTMAG', 'JTMAG', 'E_KCMAG', 'E_HCMAG', 'E_JCMAG', 'E_KTMAG', 'E_HTMAG', 'E_JTMAG', 'CZ', 'CENSAT', 'GROUPMASS', 'NUMDENS', 'NDIST']\n",
      "format:\n",
      "    ['16A', 'D', 'D', 'D', 'D', 'D', 'D', 'D', 'D', 'D', 'D', 'D', 'D', 'D', 'D', 'D', 'I', 'D', 'D', 'D']\n",
      "unit:\n",
      "    ['', '', '', '', '', '', '', '', '', '', '', '', '', '', '', '', '', '', '', '']\n",
      "null:\n",
      "    ['', '', '', '', '', '', '', '', '', '', '', '', '', '', '', '', '', '', '', '']\n",
      "bscale:\n",
      "    ['', '', '', '', '', '', '', '', '', '', '', '', '', '', '', '', '', '', '', '']\n",
      "bzero:\n",
      "    ['', '', '', '', '', '', '', '', '', '', '', '', '', '', '', '', '', '', '', '']\n",
      "disp:\n",
      "    ['', '', '', '', '', '', '', '', '', '', '', '', '', '', '', '', '', '', '', '']\n",
      "start:\n",
      "    ['', '', '', '', '', '', '', '', '', '', '', '', '', '', '', '', '', '', '', '']\n",
      "dim:\n",
      "    ['', '', '', '', '', '', '', '', '', '', '', '', '', '', '', '', '', '', '', '']\n",
      "coord_type:\n",
      "    ['', '', '', '', '', '', '', '', '', '', '', '', '', '', '', '', '', '', '', '']\n",
      "coord_unit:\n",
      "    ['', '', '', '', '', '', '', '', '', '', '', '', '', '', '', '', '', '', '', '']\n",
      "coord_ref_point:\n",
      "    ['', '', '', '', '', '', '', '', '', '', '', '', '', '', '', '', '', '', '', '']\n",
      "coord_ref_value:\n",
      "    ['', '', '', '', '', '', '', '', '', '', '', '', '', '', '', '', '', '', '', '']\n",
      "coord_inc:\n",
      "    ['', '', '', '', '', '', '', '', '', '', '', '', '', '', '', '', '', '', '', '']\n",
      "time_ref_pos:\n",
      "    ['', '', '', '', '', '', '', '', '', '', '', '', '', '', '', '', '', '', '', '']\n"
     ]
    }
   ],
   "source": [
    "from astropy.table import Table\n",
    "import numpy as np\n",
    "import matplotlib.pyplot as plt\n",
    "from pylab import *\n",
    "from astropy.io import ascii\n",
    "from astropy.io import fits\n",
    "hdul = fits.open('2mass_envir.fits')\n",
    "data = hdul[1].data\n",
    "cols = hdul[1].columns\n",
    "cols.info()\n",
    "\n",
    "# apparent magnitude in J-band\n",
    "magJ = data['JTMAG']\n",
    "# redshift x speed of light = redshifted velocity\n",
    "cz = data['CZ']\n"
   ]
  },
  {
   "cell_type": "markdown",
   "metadata": {},
   "source": [
    "## 1. Plot a histogram of the apparent magnitudes "
   ]
  },
  {
   "cell_type": "code",
   "execution_count": 1,
   "metadata": {},
   "outputs": [],
   "source": [
    "# student work here:\n"
   ]
  },
  {
   "cell_type": "markdown",
   "metadata": {},
   "source": [
    "## 2. Plot the distance - apparent magnitude\n",
    "\n",
    "What do you notice about the relation between apparent magnitude and redshift."
   ]
  },
  {
   "cell_type": "code",
   "execution_count": 2,
   "metadata": {},
   "outputs": [],
   "source": [
    "# student work \n"
   ]
  },
  {
   "cell_type": "markdown",
   "metadata": {},
   "source": [
    "*your intepretation here*"
   ]
  },
  {
   "cell_type": "markdown",
   "metadata": {},
   "source": [
    "## 3. Plot the Absolute Magnitude as a function of redshift\n",
    "\n",
    "compute the distance to each galaxy assuming Hubble flow: $v=H_0 \\times D$\n",
    "How far out can the brightest galaxies be detected? And how far out the dimmest? How will that affect the numbers we have on both those populations?"
   ]
  },
  {
   "cell_type": "code",
   "execution_count": 3,
   "metadata": {},
   "outputs": [],
   "source": [
    "# student work\n"
   ]
  },
  {
   "cell_type": "markdown",
   "metadata": {},
   "source": [
    "*your answer here*"
   ]
  },
  {
   "cell_type": "markdown",
   "metadata": {},
   "source": [
    "## 4. Histogram of Absolute Magnitude\n",
    "\n",
    "Make a histogram of the absolute magnitudes. Which bin is relatively over-represented? Alternatively, which bin is missing the most due to the limiting apparent magnitude of the survey? "
   ]
  },
  {
   "cell_type": "code",
   "execution_count": 4,
   "metadata": {},
   "outputs": [],
   "source": [
    "# student work\n"
   ]
  },
  {
   "cell_type": "markdown",
   "metadata": {},
   "source": [
    "*Your interpretation here*"
   ]
  },
  {
   "cell_type": "markdown",
   "metadata": {},
   "source": [
    "## 5. Histogram of Absolute Magnitude corrected for survey sensitivity\n",
    "\n",
    "Make a second histogram of the absolute magnitudes but now weigh each entry by the volume is could have been detected in. The limiting distance for 2MASS is 15.03 in J-band. \n",
    "Each galaxy of absolute magniture M_J can be detected out to:\n",
    "\n",
    "$$ D_{lim} = 10^{ (m_{lim} - M_J + 5)/5.}$$\n",
    "\n",
    "And this defines a volume for a given survey for each galaxy found: $V_{max} = A_{survey} \\times D_{lim}$.\n",
    "\n",
    "2MASS is an *all-sky* survey. Weigh each entry in the second histogram by $1/V_{max}$. How much as your histogram changed? What are the most common galaxies and what are the rarest *in a fixed volume*?\n",
    "\n",
    "tip: plt.hist(x) can take some extra commands:\n",
    "plt.hist(x, range=[xmin,xmax], log=True, weights=y) shows a histogram within a certain range of values, logarithmic y-axis and weighted by y."
   ]
  },
  {
   "cell_type": "code",
   "execution_count": 5,
   "metadata": {},
   "outputs": [],
   "source": [
    "# student work\n"
   ]
  },
  {
   "cell_type": "markdown",
   "metadata": {},
   "source": [
    "*your answer here*"
   ]
  },
  {
   "cell_type": "markdown",
   "metadata": {},
   "source": [
    "## BONUS: The Schechter Function\n",
    "\n",
    "A convenient approximation to the luminosity function was suggested by Paul Schechter in\n",
    "1976.\n",
    "\n",
    "In this expression: \n",
    "* $\\phi^*$ is a normalization factor which defines the overall density of galaxies (number per\n",
    "cubic Mpc).\n",
    "* $L^*$ is a characteristic galaxy luminosity. An $L^*$ galaxy is a bright galaxy, roughly\n",
    "comparable in luminosity to the Milky Way. A galaxy with $L < 0.1 L^*$ is a dwarf. !\n",
    "* $\\alpha$ defines the `faint-end slope’ of the luminosity function. a is typically negative,\n",
    "implying large numbers of galaxies with low luminosities.\n",
    "\n",
    "In magnitudes:\n",
    "\n",
    "$$ \\phi(M) = 0.4ln10 \\phi^* [10^{0.4(M^*-M)} ]^{1+\\alpha} exp[-10^{0.4(M^*-M)}] $$\n",
    "\n",
    "In luminosities:\n",
    "\n",
    "$$ \\Phi(L) = \\left({\\phi^* \\over L^* }\\right) \\left({L \\over L^*}\\right)^\\alpha exp \\left(- {L \\over L^*} \\right) $$"
   ]
  },
  {
   "cell_type": "code",
   "execution_count": 29,
   "metadata": {},
   "outputs": [
    {
     "data": {
      "image/png": "[encoded data removed]",
      "text/plain": [
       "<matplotlib.figure.Figure at 0x15111f0e10>"
      ]
     },
     "metadata": {},
     "output_type": "display_data"
    }
   ],
   "source": [
    "Mstar = -20.\n",
    "alpha = -1.3\n",
    "M = np.arange(-28,-10,0.1)\n",
    "\n",
    "phi = 0.4*np.log(10)* ( (10**(0.4*Mstar-M))**(1.+alpha) )*np.exp(-10**(0.4*(Mstar - M) ) )\n",
    "\n",
    "\n",
    "plt.figure()\n",
    "plt.subplot(111)\n",
    "plt.plot(M,phi,'ko')\n",
    "plt.xlim(-28,-10)\n",
    "plt.yscale(\"log\", nonposy='clip')\n",
    "plt.xlabel(r'$Mag_J$', fontsize=20)\n",
    "plt.ylabel(r'Number density', fontsize=20)\n",
    "plt.savefig('cz_MagJ.png',bbox_inches='tight')\n",
    "\n"
   ]
  },
  {
   "cell_type": "markdown",
   "metadata": {},
   "source": [
    "## References\n",
    "\n",
    "the 2 Micron All Sky Survey (2MASS)\n",
    "\n",
    "http://adsabs.harvard.edu/abs/2006AJ....131.1163S\n",
    "    \n"
   ]
  }
 ],
 "metadata": {
  "kernelspec": {
   "display_name": "Python 3",
   "language": "python",
   "name": "python3"
  },
  "language_info": {
   "codemirror_mode": {
    "name": "ipython",
    "version": 3
   },
   "file_extension": ".py",
   "mimetype": "text/x-python",
   "name": "python",
   "nbconvert_exporter": "python",
   "pygments_lexer": "ipython3",
   "version": "3.5.4"
  }
 },
 "nbformat": 4,
 "nbformat_minor": 2
}
