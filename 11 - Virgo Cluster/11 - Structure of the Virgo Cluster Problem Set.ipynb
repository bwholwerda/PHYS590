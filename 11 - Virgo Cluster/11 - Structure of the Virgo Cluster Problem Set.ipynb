{
 "cells": [
  {
   "cell_type": "markdown",
   "metadata": {},
   "source": [
    "# Structure of the Virgo Cluster of Galaxies\n",
    "\n",
    "## Authors\n",
    "B.W. Holwerda\n",
    "\n",
    "## Learning Goals\n",
    "* Identify the Morphology-density relation in a cluster\n",
    "* Identify the Color-density relation in a cluster\n",
    "* Projection effects in a cluster\n",
    "\n",
    "\n",
    "## Keywords\n",
    "Clusters, Virgo Cluster, Busch-Oemler Effect, Color-density and morphology-density effects.\n",
    "\n",
    "## Companion Content\n",
    "Ryden & Peterson's \"Foundations in Astrophysics\" \n",
    "\n",
    "## Summary\n",
    "Using the summary table from Kim et al (2014) of the Virgo cluster galaxies, we can construct\n",
    "simple maps of the Virgo cluster \n",
    "\n",
    "<hr>"
   ]
  },
  {
   "cell_type": "markdown",
   "metadata": {},
   "source": [
    "\n",
    "## Student Name and ID:\n",
    "\n",
    "\n",
    "\n",
    "## Date:\n",
    "\n",
    "<hr>"
   ]
  },
  {
   "cell_type": "code",
   "execution_count": 2,
   "metadata": {},
   "outputs": [
    {
     "name": "stdout",
     "output_type": "stream",
     "text": [
      "EVCC VCC NGC   RAdeg    DEdeg   FRAdeg  ... e_imag  zmag e_zmag  Rad    R50  \n",
      "                deg      deg     deg    ...  mag    mag   mag   arcsec arcsec\n",
      "---- --- ---- -------- ------- -------- ... ------ ----- ------ ------ ------\n",
      "   1  --   -- 175.0771    9.01 175.0771 ...   0.02 12.01  0.031  50.02   8.89\n",
      "   2  --   -- 175.2362 14.0745 175.2364 ...  0.021 15.13  0.033   36.2   7.59\n",
      "   3  -- 3810 175.2449 11.4711 175.2448 ...   0.02 10.01  0.031 137.27  34.31\n",
      "   4  --   -- 175.4609 15.9737  175.461 ...   0.02 13.77  0.031  26.02   5.93\n",
      "   5  --   -- 175.5747 14.9949 175.5793 ...  0.021 15.52  0.037 106.17  22.43\n",
      "   6  --   -- 175.6224 18.3327 175.6228 ...   0.02 12.95  0.031 101.42  21.45\n",
      "   7  --   -- 175.8163 -1.3951 175.8172 ...  0.021 16.26  0.036  21.05    5.2\n",
      "   8  --   -- 175.8624 11.3985 175.8624 ...  0.021 15.79  0.033  17.41   4.82\n",
      "   9  --   -- 175.9422 13.7076 175.9422 ...  0.021 15.23  0.032  13.93   2.83\n",
      "  10  --   -- 176.0439 -3.6689 176.0441 ...  0.022  17.1  0.053  28.27   5.79\n",
      " ... ...  ...      ...     ...      ... ...    ...   ...    ...    ...    ...\n",
      "2255  --   -- 194.9924  2.0495       -- ...   0.02 13.66  0.032   64.3  16.02\n",
      "2256  --   -- 195.0728 -3.0659       -- ...  0.021  14.3  0.032  79.25  17.21\n",
      "2257  --   -- 195.1906 -2.7179       -- ...  0.022 17.41  0.048   19.5   4.45\n",
      "2258  --   -- 195.8118  7.8026       -- ...   0.02 12.44  0.031   98.2  22.14\n",
      "2259  --   -- 195.9078   7.904       -- ...   0.02 14.35  0.031  23.51   7.12\n",
      "2260  --   -- 196.1936 -2.8712       -- ...  0.021 16.05  0.037  50.52  10.36\n",
      "2261  --   -- 198.0261  5.4758       -- ...  0.021 15.76  0.034  57.83  14.57\n",
      "2262  --   -- 198.3319 10.1942       -- ...   0.02 14.02  0.031  60.77  16.35\n",
      "2263  --   -- 199.4431 -1.0381       -- ...  0.021 15.31  0.032  31.12   6.68\n",
      "2264  --   --  199.589  0.3468       -- ...  0.028 19.32  0.071   4.98   1.41\n",
      "Length = 1589 rows\n"
     ]
    }
   ],
   "source": [
    "from astropy.table import Table\n",
    "import numpy as np\n",
    "import matplotlib.pyplot as plt\n",
    "from pylab import *\n",
    "from astropy.io import ascii\n",
    "from astropy.io import fits\n",
    "from astropy.io import ascii\n",
    "\n",
    "data = ascii.read(\"virgo_cluster.txt\")  \n",
    "print(data)\n"
   ]
  },
  {
   "cell_type": "markdown",
   "metadata": {},
   "source": [
    "## Exercise 1 Plot RA & DEC of the galaxies in Virgo"
   ]
  },
  {
   "cell_type": "code",
   "execution_count": 9,
   "metadata": {},
   "outputs": [],
   "source": [
    "# student work\n"
   ]
  },
  {
   "cell_type": "code",
   "execution_count": 10,
   "metadata": {},
   "outputs": [],
   "source": [
    "# Here we define the different morphological classes\n",
    "Sb = np.where(data['PMorph']=='Sb')\n",
    "Sa = np.where(data['PMorph']=='Sa')\n",
    "S0 = np.where(data['PMorph']=='S0')\n",
    "lsb = np.where(data['PMorph']=='Irr(LSB)')\n",
    "hsb = np.where(data['PMorph']=='Irr(HSB)')\n",
    "dE = np.where(data['PMorph']=='dE')\n",
    "E = np.where(data['PMorph']=='E')\n",
    "\n",
    "# plot different morphologies with different colors\n"
   ]
  },
  {
   "cell_type": "markdown",
   "metadata": {},
   "source": [
    "## Exercise 2: Plot RA & DEC and where Sb and Elliptical galaxies are in Virgo"
   ]
  },
  {
   "cell_type": "code",
   "execution_count": 11,
   "metadata": {},
   "outputs": [],
   "source": [
    "# where are the Sb and E type galaixes? Discuss\n",
    "\n",
    "\n",
    "\n"
   ]
  },
  {
   "cell_type": "markdown",
   "metadata": {},
   "source": [
    "## Exercise 3: Plot RA & DEC and where IRR LSB and IRR HSB galaxies are in Virgo"
   ]
  },
  {
   "cell_type": "code",
   "execution_count": 6,
   "metadata": {},
   "outputs": [],
   "source": [
    "# Irr/LCb and Irr?HSB\n",
    "\n"
   ]
  },
  {
   "cell_type": "markdown",
   "metadata": {},
   "source": [
    "## What can you say about morphology and position with the Virgo Cluster."
   ]
  },
  {
   "cell_type": "markdown",
   "metadata": {},
   "source": [
    "*your anwer here*"
   ]
  },
  {
   "cell_type": "markdown",
   "metadata": {},
   "source": [
    "## Exercise 4: Plot RA & DEC with the color of the galaxies in the Virgo cluster\n",
    "\n",
    "for this we use the scatter command in python again. Let us define the g-i color sdss-g color is in data['gmag'] etc. \n",
    "\n",
    "plt.scatter(X, Y, lw=0.1, c= g-i, cmap=plt.cm.cubehelix)\n",
    "\n",
    "cubehelix is one example of a color map to assign colors to points in a plot this way. Try one of the others:\n",
    "https://matplotlib.org/examples/color/colormaps_reference.html\n",
    "\n",
    "and to see what corresponds to which color, add the command plt.colorbar() to the plot.\n"
   ]
  },
  {
   "cell_type": "code",
   "execution_count": 12,
   "metadata": {},
   "outputs": [],
   "source": [
    "# Make plot with vertical (default) colorbar\n"
   ]
  },
  {
   "cell_type": "markdown",
   "metadata": {},
   "source": [
    "## Discuss the color relation with Virgo"
   ]
  },
  {
   "cell_type": "markdown",
   "metadata": {},
   "source": [
    "*your answer here*"
   ]
  },
  {
   "cell_type": "markdown",
   "metadata": {},
   "source": [
    "## How would you improve on the above approach to color or morphology - density relations? "
   ]
  },
  {
   "cell_type": "markdown",
   "metadata": {},
   "source": [
    "*your anwer here*"
   ]
  },
  {
   "cell_type": "markdown",
   "metadata": {},
   "source": [
    "## References\n",
    "\n",
    "Kim et al (2014) - http://iopscience.iop.org/article/10.1088/0067-0049/215/2/22/meta#apjs502304t2"
   ]
  },
  {
   "cell_type": "code",
   "execution_count": null,
   "metadata": {},
   "outputs": [],
   "source": []
  }
 ],
 "metadata": {
  "kernelspec": {
   "display_name": "Python 3",
   "language": "python",
   "name": "python3"
  },
  "language_info": {
   "codemirror_mode": {
    "name": "ipython",
    "version": 3
   },
   "file_extension": ".py",
   "mimetype": "text/x-python",
   "name": "python",
   "nbconvert_exporter": "python",
   "pygments_lexer": "ipython3",
   "version": "3.6.4"
  }
 },
 "nbformat": 4,
 "nbformat_minor": 2
}
