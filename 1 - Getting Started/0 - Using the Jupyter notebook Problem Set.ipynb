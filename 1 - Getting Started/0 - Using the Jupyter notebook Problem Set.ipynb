{
 "cells": [
  {
   "cell_type": "markdown",
   "metadata": {},
   "source": [
    "# Python Essentials\n",
    "\n",
    "## Authors\n",
    "B.W. Holwerda & the AstroConda Workshop\n",
    "\n",
    "## Learning Goals\n",
    "* Understanding of basic synthax of Python and Jupyter Notebooks.\n",
    "* Familiarize with the assignment structure\n",
    "\n",
    "## Keywords\n",
    "Python, Jupyter Notebooks\n",
    "\n",
    "## Companion Content\n",
    "Ryden & Peterson's \"Foundations in Astrophysics\" \n",
    "\n",
    "## Summary\n",
    "\n",
    "The **Jupyter notebook** allows you to write notebooks similar to e.g. Mathematica, SageMath, etc. The advantage of doing this is that you can include text, code, and plots in the same document. This makes it ideal for example to include code, notes, and plots about projects and sharing it with others.\n",
    "\n",
    "<hr>"
   ]
  },
  {
   "cell_type": "markdown",
   "metadata": {},
   "source": [
    "\n",
    "## Student Name and ID:\n",
    "\n",
    "\n",
    "\n",
    "## Date:\n",
    "\n",
    "<hr>"
   ]
  },
  {
   "cell_type": "markdown",
   "metadata": {
    "nbpresent": {
     "id": "b3d2f6f7-c558-4fff-9a25-91c328d8a400"
    }
   },
   "source": [
    "## Starting up"
   ]
  },
  {
   "cell_type": "markdown",
   "metadata": {
    "nbpresent": {
     "id": "7cc8e3c4-be1d-44f7-99f7-773347ede0bd"
    }
   },
   "source": [
    "The normal way to start up the IPython notebook is:\n",
    "\n",
    "    jupyter notebook\n",
    "    \n",
    "Once you do this, your web browser should open and go to a page showing a list of folders."
   ]
  },
  {
   "cell_type": "markdown",
   "metadata": {
    "nbpresent": {
     "id": "def841eb-06c3-45dd-929f-62b453f548fb"
    }
   },
   "source": [
    "## First steps"
   ]
  },
  {
   "cell_type": "markdown",
   "metadata": {
    "nbpresent": {
     "id": "120f3258-88a8-4bdb-908f-e94d98600e8e"
    }
   },
   "source": [
    "Click on **New** on the right then select **Python** (if there are several, select **Python [default]**), which will start a new document. You can change the name of the document by clicking on the **Untitled** name at the top and entering a new name. Make sure you then save the document (make sure that you save regularly as you might lose content if you close the browser window).\n",
    "\n",
    "At first glance, a notebook looks like a fairly typical application - it has a menubar (File, Edit, View, etc.) and a tool bar with icons. Below this, you will see an empty cell, in which you can type any Python code. You can write several lines of code, and once it is ready to run, you can press **shift-enter** and it will get executed:"
   ]
  },
  {
   "cell_type": "code",
   "execution_count": 7,
   "metadata": {
    "nbpresent": {
     "id": "fbf2d2f2-eeb7-4509-acdc-15e4a537dd47"
    }
   },
   "outputs": [
    {
     "name": "stdout",
     "output_type": "stream",
     "text": [
      "1\n"
     ]
    }
   ],
   "source": [
    "a = 1\n",
    "print(a)"
   ]
  },
  {
   "cell_type": "markdown",
   "metadata": {
    "nbpresent": {
     "id": "5c154836-de9a-4b14-af1c-b545929b0d2f"
    }
   },
   "source": [
    "You can then click on that cell, change the Python code, and press **shift-enter** again to re-execute the code. Once you have executed a cell once, a new cell will appear below. You can again enter some code, then press shift-enter to execute it."
   ]
  },
  {
   "cell_type": "markdown",
   "metadata": {
    "nbpresent": {
     "id": "ded46a09-247b-4210-86de-10c18a434dd4"
    }
   },
   "source": [
    "## Plotting"
   ]
  },
  {
   "cell_type": "markdown",
   "metadata": {
    "nbpresent": {
     "id": "1b5dbad8-35d8-4e2a-8877-e10162c1a5ce"
    }
   },
   "source": [
    "To make plots, enter any Matplotlib commands (which we'll learn about in the plotting section of the workshop), and just press shift-enter - note that all commands for a plot should be entered in one cell, you cannot split it up over multiple cells:"
   ]
  },
  {
   "cell_type": "code",
   "execution_count": 8,
   "metadata": {
    "nbpresent": {
     "id": "c6dfdbcc-d701-49b2-ab03-54cfa38ce867"
    }
   },
   "outputs": [
    {
     "data": {
      "text/plain": [
       "Text(0,0.5,'y')"
      ]
     },
     "execution_count": 8,
     "metadata": {},
     "output_type": "execute_result"
    },
    {
     "data": {
      "image/png": "[encoded data removed]",
      "text/plain": [
       "<matplotlib.figure.Figure at 0x117ce2cf8>"
      ]
     },
     "metadata": {},
     "output_type": "display_data"
    }
   ],
   "source": [
    "import matplotlib.pyplot as plt\n",
    "plt.plot([1, 2, 3], [4, 5, 6])\n",
    "plt.xlabel(\"x\")\n",
    "plt.ylabel(\"y\")"
   ]
  },
  {
   "cell_type": "markdown",
   "metadata": {},
   "source": [
    "if you don't want the data to be connected, use a format string in the plot command as well: plt.plot(x,y,'ko')"
   ]
  },
  {
   "cell_type": "code",
   "execution_count": 2,
   "metadata": {},
   "outputs": [
    {
     "data": {
      "text/plain": [
       "[<matplotlib.lines.Line2D at 0x117afa518>]"
      ]
     },
     "execution_count": 2,
     "metadata": {},
     "output_type": "execute_result"
    },
    {
     "data": {
      "image/png": "[encoded data removed]",
      "text/plain": [
       "<matplotlib.figure.Figure at 0x11478a1d0>"
      ]
     },
     "metadata": {},
     "output_type": "display_data"
    }
   ],
   "source": [
    "plt.plot([1, 2, 3], [4, 5, 6],'ko')"
   ]
  },
  {
   "cell_type": "markdown",
   "metadata": {},
   "source": [
    "Another possibility is to generate a histogram with plt.hist(list)."
   ]
  },
  {
   "cell_type": "code",
   "execution_count": 3,
   "metadata": {},
   "outputs": [
    {
     "data": {
      "text/plain": [
       "(array([1., 0., 0., 0., 0., 1., 0., 0., 0., 1.]),\n",
       " array([1. , 1.2, 1.4, 1.6, 1.8, 2. , 2.2, 2.4, 2.6, 2.8, 3. ]),\n",
       " <a list of 10 Patch objects>)"
      ]
     },
     "execution_count": 3,
     "metadata": {},
     "output_type": "execute_result"
    },
    {
     "data": {
      "image/png": "[encoded data removed]",
      "text/plain": [
       "<matplotlib.figure.Figure at 0x10b2464a8>"
      ]
     },
     "metadata": {},
     "output_type": "display_data"
    }
   ],
   "source": [
    "plt.hist([1, 2, 3])"
   ]
  },
  {
   "cell_type": "markdown",
   "metadata": {},
   "source": [
    "One can also add text in places in a plot using plt.text(x,y,'text') and this can be very useful to mark important parts. To better combine a series of commands. "
   ]
  },
  {
   "cell_type": "code",
   "execution_count": 7,
   "metadata": {},
   "outputs": [
    {
     "data": {
      "text/plain": [
       "[<matplotlib.lines.Line2D at 0x118324828>]"
      ]
     },
     "execution_count": 7,
     "metadata": {},
     "output_type": "execute_result"
    },
    {
     "data": {
      "image/png": "[encoded data removed]",
      "text/plain": [
       "<matplotlib.figure.Figure at 0x118324940>"
      ]
     },
     "metadata": {},
     "output_type": "display_data"
    }
   ],
   "source": [
    "plt.text(1,2,'here be text')\n",
    "plt.plot([1, 2, 3], [4, 5, 6],'ko')\n"
   ]
  },
  {
   "cell_type": "code",
   "execution_count": 4,
   "metadata": {},
   "outputs": [
    {
     "data": {
      "image/png": "[encoded data removed]",
      "text/plain": [
       "<matplotlib.figure.Figure at 0x117bd5d30>"
      ]
     },
     "metadata": {},
     "output_type": "display_data"
    }
   ],
   "source": [
    "plt.figure()\n",
    "plt.subplot(111)\n",
    "plt.plot([1,4,5,3,8], [5,3,6,7,2], 'bo')\n",
    "# plt.ylim([14,2])\n",
    "plt.ylabel(r'$m_V$', fontsize=20)\n",
    "plt.xlabel(r'B-V', fontsize=20)\n",
    "plt.savefig('example.png',bbox_inches='tight')"
   ]
  },
  {
   "cell_type": "markdown",
   "metadata": {
    "nbpresent": {
     "id": "80fe17d0-fcc2-4126-898a-a1761287dc27"
    }
   },
   "source": [
    "As before, you can always go back and edit the cell to re-make the plot. If you want to save it, make sure you include ``plt.savefig(filename)`` as the last command, where ``filename`` is the name of the plot, such as ``my_plot.png``."
   ]
  },
  {
   "cell_type": "markdown",
   "metadata": {
    "nbpresent": {
     "id": "9105381c-8a2a-4f6a-aebd-0d2c81e8863a"
    }
   },
   "source": [
    "## Text"
   ]
  },
  {
   "cell_type": "markdown",
   "metadata": {
    "nbpresent": {
     "id": "7d99ead2-a133-40b4-90d9-53fbfa7f0f93"
    }
   },
   "source": [
    "To enter actual text (non-code) in the notebook, click on a cell, and in the drop-down menu in the toolbar, select 'Markdown'. This is a specific type of syntax for writing text. You can just write text normally and press shift-enter to *render* it:\n",
    "\n",
    "    This is some plain text\n",
    "\n",
    "To edit it, double click on the cell. You can also enter section headings using the following syntax:\n",
    "\n",
    "    This is a title\n",
    "    ===============\n",
    "\n",
    "    This is a sub-title\n",
    "    -------------------\n",
    "\n",
    "which will look like:\n",
    "\n",
    "This is a title\n",
    "===============\n",
    "\n",
    "This is a sub-title\n",
    "-------------------\n",
    "\n",
    "Finally, if you are familiar with LaTeX, you can enter equations using:\n",
    "\n",
    "    $$E = m c^2$$\n",
    "\n",
    "on a separate line, or:\n",
    "\n",
    "    The equation $p=\\frac{h}{\\lambda}$ is very important\n",
    "\n",
    "to include it in a sentence. This will look like:\n",
    "\n",
    "$$E = m c^2$$\n",
    "\n",
    "The equation $p=\\frac{h}{\\lambda}$ is very important"
   ]
  },
  {
   "cell_type": "markdown",
   "metadata": {
    "nbpresent": {
     "id": "c932cfdc-66e3-469a-8acc-2265cfdbfb74"
    }
   },
   "source": [
    "## Splitting/deleting/moving cells"
   ]
  },
  {
   "cell_type": "markdown",
   "metadata": {
    "nbpresent": {
     "id": "2d24cab1-ee8a-4a05-b62d-178c2ba27cd5"
    }
   },
   "source": [
    "You can split, delete, and move cells by going to 'Edit' and selecting the appropriate command. Some of the commands are also available in the toolbar - put your mouse over the icon and wait for a second, and it will tell you what it does."
   ]
  },
  {
   "cell_type": "markdown",
   "metadata": {
    "nbpresent": {
     "id": "a5eb353e-4949-47c8-ab2b-fd0dd1397442"
    }
   },
   "source": [
    "## Sharing your notebook"
   ]
  },
  {
   "cell_type": "markdown",
   "metadata": {
    "nbpresent": {
     "id": "2930326f-4ac8-4c3d-8f9b-eeb9133d3316"
    }
   },
   "source": [
    "Once you are happy with your notebook, you can share it with other people. The file containing your notebook is the ``.ipynb`` file that is in the directory in which you started the notebook and has the correct name. You can send this file directly to other people, and they will be able to view it in their Jupyter notebook application.\n",
    "\n",
    "If you add a notebook to GitHub, it will also be rendered there, so this is another way of sharing notebooks. To quickly share a notebook, you can just go to [http://gist.github.com](http://gist.github.com) and drag and drop the notebook onto the page, then click on **Create Private Gist** or **Create Public Gist** (a private one is still really public, but only people with the link will be able to find it)."
   ]
  },
  {
   "cell_type": "markdown",
   "metadata": {
    "nbpresent": {
     "id": "2c369eb9-8071-45d6-8435-75d87f208cab"
    }
   },
   "source": [
    "## Important notes"
   ]
  },
  {
   "cell_type": "markdown",
   "metadata": {
    "nbpresent": {
     "id": "9346c79b-b494-41b8-b0f5-2c19cc09b5c7"
    }
   },
   "source": [
    "A few important notes about using the notebook: code *can* be executed in an order different from top to bottom, but note that if you do this, variables will not be reset. So for example if you type:"
   ]
  },
  {
   "cell_type": "code",
   "execution_count": 3,
   "metadata": {
    "nbpresent": {
     "id": "713809f0-89a4-4cbd-a0bb-b004b4fa253a"
    }
   },
   "outputs": [],
   "source": [
    "a = 3"
   ]
  },
  {
   "cell_type": "markdown",
   "metadata": {
    "nbpresent": {
     "id": "417f32d9-c120-48fa-b062-045652a91ead"
    }
   },
   "source": [
    "then go higher up and type:"
   ]
  },
  {
   "cell_type": "code",
   "execution_count": 4,
   "metadata": {
    "nbpresent": {
     "id": "dade77fd-912f-414b-9928-6fab30487a36"
    }
   },
   "outputs": [
    {
     "name": "stdout",
     "output_type": "stream",
     "text": [
      "3\n"
     ]
    }
   ],
   "source": [
    "print(a)"
   ]
  },
  {
   "cell_type": "markdown",
   "metadata": {
    "nbpresent": {
     "id": "ff0c18da-f685-42c2-9580-6f0768a3f63a"
    }
   },
   "source": [
    "it will give the value you previously set. To make sure that your code works from top to bottom, go to the **Cell** menu item and go to **All Output** -> **Clear** then in the **Cell** menu, select **Run All**.\n",
    "\n",
    "In addition, even if you remove a cell, then variables set in that cell still exist unless you restart the notebook. If you want to restart a notebook, you can select **Kernel** -> **Restart**. This removes any variables from memory, and you have to start running the notebook from the start."
   ]
  },
  {
   "cell_type": "markdown",
   "metadata": {},
   "source": [
    "## Basic numeric types"
   ]
  },
  {
   "cell_type": "markdown",
   "metadata": {
    "slideshow": {
     "slide_type": "slide"
    }
   },
   "source": [
    "The basic data numeric types are similar to those found in other languages, including:\n",
    "\n",
    "**Integers (``int``)**"
   ]
  },
  {
   "cell_type": "markdown",
   "metadata": {
    "slideshow": {
     "slide_type": "slide"
    }
   },
   "source": [
    "**Floating point values (``float``)**"
   ]
  },
  {
   "cell_type": "code",
   "execution_count": 9,
   "metadata": {
    "slideshow": {
     "slide_type": "-"
    }
   },
   "outputs": [],
   "source": [
    "i = 1\n",
    "j = 219089\n",
    "k = -21231"
   ]
  },
  {
   "cell_type": "code",
   "execution_count": 10,
   "metadata": {},
   "outputs": [
    {
     "name": "stdout",
     "output_type": "stream",
     "text": [
      "1 219089 -21231\n"
     ]
    }
   ],
   "source": [
    "print(i, j, k)\n",
    "\n"
   ]
  },
  {
   "cell_type": "markdown",
   "metadata": {
    "slideshow": {
     "slide_type": "slide"
    }
   },
   "source": [
    "**Floating point values (``float``)**"
   ]
  },
  {
   "cell_type": "code",
   "execution_count": 9,
   "metadata": {
    "slideshow": {
     "slide_type": "-"
    }
   },
   "outputs": [],
   "source": [
    "a = 4.3\n",
    "b = -5.2111222\n",
    "c = 3.1e33"
   ]
  },
  {
   "cell_type": "code",
   "execution_count": null,
   "metadata": {},
   "outputs": [],
   "source": [
    "print(a, b, c)"
   ]
  },
  {
   "cell_type": "markdown",
   "metadata": {
    "slideshow": {
     "slide_type": "slide"
    }
   },
   "source": [
    "Adding two integers gives an integer:"
   ]
  },
  {
   "cell_type": "code",
   "execution_count": null,
   "metadata": {},
   "outputs": [],
   "source": [
    "1 + 3"
   ]
  },
  {
   "cell_type": "markdown",
   "metadata": {
    "slideshow": {
     "slide_type": "slide"
    }
   },
   "source": [
    "Multiplying two floats gives a float:"
   ]
  },
  {
   "cell_type": "code",
   "execution_count": null,
   "metadata": {},
   "outputs": [],
   "source": [
    "3. * 2."
   ]
  },
  {
   "cell_type": "markdown",
   "metadata": {
    "slideshow": {
     "slide_type": "slide"
    }
   },
   "source": [
    "Multiplying an integer with a float gives a float:"
   ]
  },
  {
   "cell_type": "code",
   "execution_count": null,
   "metadata": {},
   "outputs": [],
   "source": [
    "3 * 9.2"
   ]
  },
  {
   "cell_type": "markdown",
   "metadata": {
    "slideshow": {
     "slide_type": "slide"
    }
   },
   "source": [
    "However, the division of two integers gives a float:"
   ]
  },
  {
   "cell_type": "code",
   "execution_count": 11,
   "metadata": {},
   "outputs": [
    {
     "data": {
      "text/plain": [
       "1.5"
      ]
     },
     "execution_count": 11,
     "metadata": {},
     "output_type": "execute_result"
    }
   ],
   "source": [
    "3 / 2"
   ]
  },
  {
   "cell_type": "markdown",
   "metadata": {},
   "source": [
    "## Exercise 1"
   ]
  },
  {
   "cell_type": "markdown",
   "metadata": {},
   "source": [
    "The operator for raising one value to the power of another is ``**``. Try calculating $4^3$, $2+3.4^2$, and $2**3.4$. What is the type of the output in each case, and does it make sense?"
   ]
  },
  {
   "cell_type": "code",
   "execution_count": null,
   "metadata": {},
   "outputs": [],
   "source": []
  },
  {
   "cell_type": "markdown",
   "metadata": {},
   "source": [
    "## Strings"
   ]
  },
  {
   "cell_type": "markdown",
   "metadata": {},
   "source": [
    "Strings (``str``) are sequences of characters:"
   ]
  },
  {
   "cell_type": "code",
   "execution_count": 13,
   "metadata": {},
   "outputs": [],
   "source": [
    "s = \"Spam egg spam spam\""
   ]
  },
  {
   "cell_type": "markdown",
   "metadata": {},
   "source": [
    "You can use either single quotes (``'``), double quotes (``\"``), or triple quotes (``'''`` or ``\"\"\"``) to enclose a string (the last one is used for multi-line strings). To include single or double quotes inside a string, you can either use the opposite quote to enclose the string:\n",
    "\n"
   ]
  },
  {
   "cell_type": "code",
   "execution_count": 14,
   "metadata": {},
   "outputs": [
    {
     "data": {
      "text/plain": [
       "\"I'm\""
      ]
     },
     "execution_count": 14,
     "metadata": {},
     "output_type": "execute_result"
    }
   ],
   "source": [
    "\"I'm\""
   ]
  },
  {
   "cell_type": "code",
   "execution_count": 15,
   "metadata": {},
   "outputs": [
    {
     "data": {
      "text/plain": [
       "'\"hello\"'"
      ]
     },
     "execution_count": 15,
     "metadata": {},
     "output_type": "execute_result"
    }
   ],
   "source": [
    "'\"hello\"'"
   ]
  },
  {
   "cell_type": "code",
   "execution_count": 16,
   "metadata": {},
   "outputs": [
    {
     "data": {
      "text/plain": [
       "\"I'm\""
      ]
     },
     "execution_count": 16,
     "metadata": {},
     "output_type": "execute_result"
    }
   ],
   "source": [
    "'I\\'m'"
   ]
  },
  {
   "cell_type": "code",
   "execution_count": 17,
   "metadata": {},
   "outputs": [
    {
     "data": {
      "text/plain": [
       "'\"hello\"'"
      ]
     },
     "execution_count": 17,
     "metadata": {},
     "output_type": "execute_result"
    }
   ],
   "source": [
    "\"\\\"hello\\\"\""
   ]
  },
  {
   "cell_type": "markdown",
   "metadata": {},
   "source": [
    "## Lists"
   ]
  },
  {
   "cell_type": "markdown",
   "metadata": {
    "slideshow": {
     "slide_type": "slide"
    }
   },
   "source": [
    "There are several kinds of ways of storing sequences in Python, the simplest being the ``list``, which is simply a sequence of *any* Python object."
   ]
  },
  {
   "cell_type": "markdown",
   "metadata": {},
   "source": [
    "## Dynamic typing"
   ]
  },
  {
   "cell_type": "markdown",
   "metadata": {
    "slideshow": {
     "slide_type": "slide"
    }
   },
   "source": [
    "One final note on Python types - unlike many other programming languages where types have to be declared for variables, Python is *dynamically typed* which means that variables aren't assigned a specific type:"
   ]
  },
  {
   "cell_type": "code",
   "execution_count": null,
   "metadata": {},
   "outputs": [],
   "source": [
    "a = 1\n",
    "type(a)"
   ]
  },
  {
   "cell_type": "code",
   "execution_count": null,
   "metadata": {},
   "outputs": [],
   "source": [
    "a = 2.3\n",
    "type(a)"
   ]
  },
  {
   "cell_type": "code",
   "execution_count": null,
   "metadata": {},
   "outputs": [],
   "source": [
    "a = 'hello'\n",
    "type(a)"
   ]
  },
  {
   "cell_type": "markdown",
   "metadata": {},
   "source": [
    "## Converting between types"
   ]
  },
  {
   "cell_type": "markdown",
   "metadata": {
    "slideshow": {
     "slide_type": "slide"
    }
   },
   "source": [
    "There may be cases where you want to convert a string to a floating point value, and integer to a string, etc. For this, you can simply use the ``int()``, ``float()``, and ``str()`` functions:"
   ]
  },
  {
   "cell_type": "code",
   "execution_count": null,
   "metadata": {},
   "outputs": [],
   "source": [
    "int('1')"
   ]
  },
  {
   "cell_type": "code",
   "execution_count": null,
   "metadata": {},
   "outputs": [],
   "source": [
    "float('4.31')"
   ]
  },
  {
   "cell_type": "code",
   "execution_count": null,
   "metadata": {},
   "outputs": [],
   "source": [
    "int('5') + float('4.31')"
   ]
  },
  {
   "cell_type": "code",
   "execution_count": null,
   "metadata": {},
   "outputs": [],
   "source": [
    "str(1)"
   ]
  },
  {
   "cell_type": "code",
   "execution_count": null,
   "metadata": {},
   "outputs": [],
   "source": [
    "str(4.5521)"
   ]
  },
  {
   "cell_type": "code",
   "execution_count": null,
   "metadata": {},
   "outputs": [],
   "source": [
    "str(3) + str(4)"
   ]
  },
  {
   "cell_type": "markdown",
   "metadata": {},
   "source": [
    "## Python Lists vs. Numpy Arrays"
   ]
  },
  {
   "cell_type": "markdown",
   "metadata": {},
   "source": [
    "Later in this Python introduction we will discuss a module called numpy. Numpy has it's own way of storing sequences, which seems list-like. It is important to mention though that numpy arrays are not python lists, and python lists are not numpy arrays. This can often lead to running errors with certain codes that may need numpy arrays instead of python lists."
   ]
  },
  {
   "cell_type": "code",
   "execution_count": 9,
   "metadata": {},
   "outputs": [
    {
     "ename": "NameError",
     "evalue": "name 'li' is not defined",
     "output_type": "error",
     "traceback": [
      "\u001b[0;31m---------------------------------------------------------------------------\u001b[0m",
      "\u001b[0;31mNameError\u001b[0m                                 Traceback (most recent call last)",
      "\u001b[0;32m<ipython-input-9-04db5d1516e8>\u001b[0m in \u001b[0;36m<module>\u001b[0;34m()\u001b[0m\n\u001b[1;32m      1\u001b[0m \u001b[0;32mimport\u001b[0m \u001b[0mnumpy\u001b[0m \u001b[0;32mas\u001b[0m \u001b[0mnp\u001b[0m\u001b[0;34m\u001b[0m\u001b[0m\n\u001b[1;32m      2\u001b[0m \u001b[0;34m\u001b[0m\u001b[0m\n\u001b[0;32m----> 3\u001b[0;31m \u001b[0mar\u001b[0m \u001b[0;34m=\u001b[0m \u001b[0mnp\u001b[0m\u001b[0;34m.\u001b[0m\u001b[0marray\u001b[0m\u001b[0;34m(\u001b[0m\u001b[0mli\u001b[0m\u001b[0;34m)\u001b[0m\u001b[0;34m\u001b[0m\u001b[0m\n\u001b[0m",
      "\u001b[0;31mNameError\u001b[0m: name 'li' is not defined"
     ]
    }
   ],
   "source": [
    "import numpy as np\n",
    "\n",
    "ar = np.array(li)"
   ]
  },
  {
   "cell_type": "markdown",
   "metadata": {},
   "source": [
    "numpy is a great way to generate arrays of numbers or to store those in. For example, numpy.ar"
   ]
  },
  {
   "cell_type": "markdown",
   "metadata": {},
   "source": [
    "## Reading data from files into tables\n",
    "\n",
    "You can read data using the [Table.read()](http://astropy.readthedocs.org/en/stable/api/astropy.table.Table.html#astropy.table.Table.read) method:"
   ]
  },
  {
   "cell_type": "code",
   "execution_count": 10,
   "metadata": {},
   "outputs": [],
   "source": [
    "from __future__ import print_function, division\n",
    "from astropy.table import Table\n",
    "\n",
    "import numpy as np\n",
    "\n",
    "import matplotlib.pyplot as plt"
   ]
  },
  {
   "cell_type": "code",
   "execution_count": 11,
   "metadata": {},
   "outputs": [
    {
     "name": "stdout",
     "output_type": "stream",
     "text": [
      "        color                mag        \n",
      "--------------------- ------------------\n",
      "    1.012135191715556 12.748594132523987\n",
      "  0.09699214368611941 15.592952672793686\n",
      " -0.49341858953164397  19.56967660756462\n",
      "   1.4076157345976217 19.861373904737196\n",
      "   0.6334346560533737 15.112665169615331\n",
      "   0.8157912170417965 17.998378194871552\n",
      "   0.9083967993846838  19.14263680341805\n",
      "   0.4741901340526604 15.963402466532884\n",
      "  -0.5946674701790733  16.07127545148903\n",
      "  -0.9163998807208076 14.845135700860755\n",
      "                  ...                ...\n",
      "     4.09117841879467 15.310917528253434\n",
      "   0.4721561932837463 19.405158501156922\n",
      "  0.37052907255133116  21.65376700017194\n",
      "  0.24378293356680164 13.780242662666847\n",
      "     1.69204132741348 12.078996476137947\n",
      "   1.4831612557746021 17.090883322002078\n",
      "    1.234075473618185  21.73111488089299\n",
      "   0.5879855407089075 21.308821492441183\n",
      "   2.3869305385267214 15.088781402026328\n",
      "-0.008504215471429877 20.358495489539237\n",
      "   1.5186092199425327  18.66064548533108\n",
      "Length = 100 rows\n"
     ]
    }
   ],
   "source": [
    "t1= Table.read('example.dat', format='ascii')\n",
    "print(t1)"
   ]
  },
  {
   "cell_type": "markdown",
   "metadata": {},
   "source": [
    "if you want to loop through a list or an array, this is a useful trick:\n",
    "    ``for i in range(len(t1['color'])):``\n",
    "\n"
   ]
  },
  {
   "cell_type": "code",
   "execution_count": 33,
   "metadata": {},
   "outputs": [
    {
     "name": "stdout",
     "output_type": "stream",
     "text": [
      "0 1.012135191715556\n",
      "1 0.09699214368611941\n",
      "2 -0.49341858953164397\n",
      "3 1.4076157345976217\n",
      "4 0.6334346560533737\n",
      "5 0.8157912170417965\n",
      "6 0.9083967993846838\n",
      "7 0.4741901340526604\n",
      "8 -0.5946674701790733\n",
      "9 -0.9163998807208076\n",
      "10 0.2417365204731582\n",
      "11 -0.6166443439658802\n",
      "12 0.3664364478604205\n",
      "13 -0.18732961246904356\n",
      "14 0.37476687790712737\n",
      "15 1.40589211943695\n",
      "16 0.7116654517207086\n",
      "17 -0.56815119063507\n",
      "18 1.1761194839680988\n",
      "19 -0.1285760210031106\n",
      "20 0.622435305801734\n",
      "21 1.091066672233064\n",
      "22 0.3686097905960143\n",
      "23 -0.6384914594300157\n",
      "24 -0.00991332775231113\n",
      "25 0.11306827660874369\n",
      "26 0.9045105401009466\n",
      "27 -0.26779618346269285\n",
      "28 -0.1508607488554642\n",
      "29 0.10668692488729198\n",
      "30 -0.02467647443285348\n",
      "31 -0.6055062951550676\n",
      "32 -0.877167118625396\n",
      "33 2.390838733828172\n",
      "34 0.5837614061899145\n",
      "35 2.0324745357514775\n",
      "36 -1.6148221952542707\n",
      "37 1.6428114185891876\n",
      "38 1.1607598770099834\n",
      "39 1.2617363125723435\n",
      "40 -0.489811178673076\n",
      "41 0.7191129099854651\n",
      "42 1.4791604409561816\n",
      "43 3.3019369777605627\n",
      "44 1.674228377405707\n",
      "45 2.073285825081832\n",
      "46 0.06746498859667333\n",
      "47 2.14958494585819\n",
      "48 -0.29926396384878406\n",
      "49 0.2051733620707799\n",
      "50 -0.26686647805782227\n",
      "51 1.5190229861284317\n",
      "52 0.8252125324059651\n",
      "53 1.3367911234642216\n",
      "54 -0.8346836142072811\n",
      "55 -0.019728994552183354\n",
      "56 -0.3808117863000451\n",
      "57 3.0870718183185257\n",
      "58 0.7326067005090161\n",
      "59 1.0435315333990627\n",
      "60 -0.3163771669676464\n",
      "61 1.9914811467276305\n",
      "62 -1.2075578543382297\n",
      "63 1.8616977294509678\n",
      "64 0.8358826705133003\n",
      "65 -2.2237744922299947\n",
      "66 -0.46218246528489726\n",
      "67 1.505455514265879\n",
      "68 1.2004296754853208\n",
      "69 -0.1200010549752194\n",
      "70 1.4551487531851657\n",
      "71 -0.4975532617573555\n",
      "72 -0.3048954716829094\n",
      "73 -0.2860060470867368\n",
      "74 -0.06655244715082431\n",
      "75 1.4169261111219904\n",
      "76 -0.41617664662512066\n",
      "77 1.199914990489395\n",
      "78 -0.6721951396170949\n",
      "79 -0.12175769588769991\n",
      "80 2.195079333183846\n",
      "81 1.007258916637901\n",
      "82 1.4128457824289469\n",
      "83 -1.3360424794169115\n",
      "84 1.1063054572772066\n",
      "85 -1.296197959304956\n",
      "86 0.4749005629226831\n",
      "87 2.1223883561885364\n",
      "88 1.4748307019358096\n",
      "89 4.09117841879467\n",
      "90 0.4721561932837463\n",
      "91 0.37052907255133116\n",
      "92 0.24378293356680164\n",
      "93 1.69204132741348\n",
      "94 1.4831612557746021\n",
      "95 1.234075473618185\n",
      "96 0.5879855407089075\n",
      "97 2.3869305385267214\n",
      "98 -0.008504215471429877\n",
      "99 1.5186092199425327\n"
     ]
    }
   ],
   "source": [
    "for i in range(len(t1)):\n",
    "    print(i,t1['color'][i])"
   ]
  },
  {
   "cell_type": "code",
   "execution_count": 12,
   "metadata": {},
   "outputs": [
    {
     "name": "stdout",
     "output_type": "stream",
     "text": [
      "        color                mag        \n",
      "--------------------- ------------------\n",
      "    1.012135191715556 12.748594132523987\n",
      "  0.09699214368611941 15.592952672793686\n",
      " -0.49341858953164397  19.56967660756462\n",
      "   1.4076157345976217 19.861373904737196\n",
      "   0.6334346560533737 15.112665169615331\n",
      "   0.8157912170417965 17.998378194871552\n",
      "   0.9083967993846838  19.14263680341805\n",
      "   0.4741901340526604 15.963402466532884\n",
      "  -0.5946674701790733  16.07127545148903\n",
      "  -0.9163998807208076 14.845135700860755\n",
      "                  ...                ...\n",
      "     4.09117841879467 15.310917528253434\n",
      "   0.4721561932837463 19.405158501156922\n",
      "  0.37052907255133116  21.65376700017194\n",
      "  0.24378293356680164 13.780242662666847\n",
      "     1.69204132741348 12.078996476137947\n",
      "   1.4831612557746021 17.090883322002078\n",
      "    1.234075473618185  21.73111488089299\n",
      "   0.5879855407089075 21.308821492441183\n",
      "   2.3869305385267214 15.088781402026328\n",
      "-0.008504215471429877 20.358495489539237\n",
      "   1.5186092199425327  18.66064548533108\n",
      "Length = 100 rows\n",
      "        color        \n",
      "---------------------\n",
      "    1.012135191715556\n",
      "  0.09699214368611941\n",
      " -0.49341858953164397\n",
      "   1.4076157345976217\n",
      "   0.6334346560533737\n",
      "   0.8157912170417965\n",
      "   0.9083967993846838\n",
      "   0.4741901340526604\n",
      "  -0.5946674701790733\n",
      "  -0.9163998807208076\n",
      "                  ...\n",
      "     4.09117841879467\n",
      "   0.4721561932837463\n",
      "  0.37052907255133116\n",
      "  0.24378293356680164\n",
      "     1.69204132741348\n",
      "   1.4831612557746021\n",
      "    1.234075473618185\n",
      "   0.5879855407089075\n",
      "   2.3869305385267214\n",
      "-0.008504215471429877\n",
      "   1.5186092199425327\n",
      "Length = 100 rows\n"
     ]
    }
   ],
   "source": [
    "t2=Table.read('example.csv', format='ascii.csv')\n",
    "print(t2)\n",
    "print(t2['color'])"
   ]
  },
  {
   "cell_type": "markdown",
   "metadata": {},
   "source": [
    "## Exercise 2"
   ]
  },
  {
   "cell_type": "markdown",
   "metadata": {},
   "source": [
    "Can you plot these in a color-magnitude diagram? Use the plt package and select colums from the above table. *Label* the axes (otherwise no one will know what they are looking at). Write to a file. And are both tables the same? Show using a plot."
   ]
  },
  {
   "cell_type": "code",
   "execution_count": 14,
   "metadata": {},
   "outputs": [
    {
     "data": {
      "text/plain": [
       "[<matplotlib.lines.Line2D at 0x1519fe1da0>]"
      ]
     },
     "execution_count": 14,
     "metadata": {},
     "output_type": "execute_result"
    },
    {
     "data": {
      "image/png": "[encoded data removed]",
      "text/plain": [
       "<matplotlib.figure.Figure at 0x1519f90940>"
      ]
     },
     "metadata": {},
     "output_type": "display_data"
    }
   ],
   "source": [
    "plt.plot(t2['color'],t2['mag'],'ko')"
   ]
  },
  {
   "cell_type": "code",
   "execution_count": null,
   "metadata": {},
   "outputs": [],
   "source": []
  }
 ],
 "metadata": {
  "anaconda-cloud": {},
  "kernelspec": {
   "display_name": "Python 3",
   "language": "python",
   "name": "python3"
  },
  "language_info": {
   "codemirror_mode": {
    "name": "ipython",
    "version": 3
   },
   "file_extension": ".py",
   "mimetype": "text/x-python",
   "name": "python",
   "nbconvert_exporter": "python",
   "pygments_lexer": "ipython3",
   "version": "3.6.4"
  },
  "nbpresent": {
   "slides": {
    "0f58d322-a2bd-4547-83cd-6aa2b2359a56": {
     "id": "0f58d322-a2bd-4547-83cd-6aa2b2359a56",
     "prev": "975c109c-3be4-43ec-874f-3165e100c6c3",
     "regions": {
      "8988cc2e-db0b-4600-ae2a-df98ae3362d6": {
       "attrs": {
        "height": 0.8,
        "width": 0.8,
        "x": 0.1,
        "y": 0.1
       },
       "content": {
        "cell": "80fe17d0-fcc2-4126-898a-a1761287dc27",
        "part": "whole"
       },
       "id": "8988cc2e-db0b-4600-ae2a-df98ae3362d6"
      }
     }
    },
    "188d7e1c-e1fc-40ec-8b76-d82c0b466d72": {
     "id": "188d7e1c-e1fc-40ec-8b76-d82c0b466d72",
     "prev": "590e3d8f-6ae7-45ab-be14-2fc0056fd242",
     "regions": {
      "d2dbb620-244c-4b1c-94dc-332a483d9932": {
       "attrs": {
        "height": 0.8,
        "width": 0.8,
        "x": 0.1,
        "y": 0.1
       },
       "content": {
        "cell": "ded46a09-247b-4210-86de-10c18a434dd4",
        "part": "whole"
       },
       "id": "d2dbb620-244c-4b1c-94dc-332a483d9932"
      }
     }
    },
    "3267b11a-148b-4530-af3e-27e67fff1763": {
     "id": "3267b11a-148b-4530-af3e-27e67fff1763",
     "prev": "73d05e56-4397-495b-9e1f-94d218026202",
     "regions": {
      "35ad5b3c-b09b-4a61-a1b5-40ab27a4f5b6": {
       "attrs": {
        "height": 0.8,
        "width": 0.8,
        "x": 0.1,
        "y": 0.1
       },
       "content": {
        "cell": "8c25ac6e-3312-4d59-a34a-9fe918f5aa57",
        "part": "whole"
       },
       "id": "35ad5b3c-b09b-4a61-a1b5-40ab27a4f5b6"
      }
     }
    },
    "3792cc0c-cf59-4bf9-9412-3241856af11e": {
     "id": "3792cc0c-cf59-4bf9-9412-3241856af11e",
     "prev": "fec55f28-172e-4ec5-bd5e-420237798ccf",
     "regions": {
      "2e5ce04e-c10a-4a41-ac8a-b567037e3842": {
       "attrs": {
        "height": 0.8,
        "width": 0.8,
        "x": 0.1,
        "y": 0.1
       },
       "content": {
        "cell": "c932cfdc-66e3-469a-8acc-2265cfdbfb74",
        "part": "whole"
       },
       "id": "2e5ce04e-c10a-4a41-ac8a-b567037e3842"
      }
     }
    },
    "392780b1-6544-430d-a25d-0645832d5dfa": {
     "id": "392780b1-6544-430d-a25d-0645832d5dfa",
     "prev": "ded3744c-d5d6-4ac7-9308-f111ef45b61a",
     "regions": {
      "097041d5-3f09-48fe-b4e9-3f22e946f08c": {
       "attrs": {
        "height": 0.8,
        "width": 0.8,
        "x": 0.1,
        "y": 0.1
       },
       "content": {
        "cell": "ff0c18da-f685-42c2-9580-6f0768a3f63a",
        "part": "whole"
       },
       "id": "097041d5-3f09-48fe-b4e9-3f22e946f08c"
      }
     }
    },
    "41e91d85-a937-4036-9a05-9154fc9326b7": {
     "id": "41e91d85-a937-4036-9a05-9154fc9326b7",
     "prev": "ce4f74a7-ed22-4fa1-b63d-46508ecae61a",
     "regions": {
      "6af22ce4-2c7f-4a85-a4d1-cbb81893ce41": {
       "attrs": {
        "height": 0.8,
        "width": 0.8,
        "x": 0.1,
        "y": 0.1
       },
       "content": {
        "cell": "2c369eb9-8071-45d6-8435-75d87f208cab",
        "part": "whole"
       },
       "id": "6af22ce4-2c7f-4a85-a4d1-cbb81893ce41"
      }
     }
    },
    "49139172-8e43-45b7-b96e-95d57dd012ed": {
     "id": "49139172-8e43-45b7-b96e-95d57dd012ed",
     "prev": "3792cc0c-cf59-4bf9-9412-3241856af11e",
     "regions": {
      "789747c6-2bf0-4789-a07a-3ba318a9ed6c": {
       "attrs": {
        "height": 0.8,
        "width": 0.8,
        "x": 0.1,
        "y": 0.1
       },
       "content": {
        "cell": "2d24cab1-ee8a-4a05-b62d-178c2ba27cd5",
        "part": "whole"
       },
       "id": "789747c6-2bf0-4789-a07a-3ba318a9ed6c"
      }
     }
    },
    "590e3d8f-6ae7-45ab-be14-2fc0056fd242": {
     "id": "590e3d8f-6ae7-45ab-be14-2fc0056fd242",
     "prev": "f864c1c5-c61e-4f2e-8634-51a15b78459c",
     "regions": {
      "4de53284-9671-41b4-b7d5-42ba50a11998": {
       "attrs": {
        "height": 0.8,
        "width": 0.8,
        "x": 0.1,
        "y": 0.1
       },
       "content": {
        "cell": "5c154836-de9a-4b14-af1c-b545929b0d2f",
        "part": "whole"
       },
       "id": "4de53284-9671-41b4-b7d5-42ba50a11998"
      }
     }
    },
    "676fb43c-136c-4c2e-b431-fc3d9e73ab95": {
     "id": "676fb43c-136c-4c2e-b431-fc3d9e73ab95",
     "prev": "6cb28851-ca74-4a4c-891f-24447bc93179",
     "regions": {
      "94738b4c-0b88-4732-b595-7561dab26b75": {
       "attrs": {
        "height": 0.8,
        "width": 0.8,
        "x": 0.1,
        "y": 0.1
       },
       "content": {
        "cell": "120f3258-88a8-4bdb-908f-e94d98600e8e",
        "part": "whole"
       },
       "id": "94738b4c-0b88-4732-b595-7561dab26b75"
      }
     }
    },
    "6cb28851-ca74-4a4c-891f-24447bc93179": {
     "id": "6cb28851-ca74-4a4c-891f-24447bc93179",
     "prev": "a3fd22e7-cee3-4230-a79c-745e008064fa",
     "regions": {
      "4e964a33-1972-40fe-b873-a87a6dee659f": {
       "attrs": {
        "height": 0.8,
        "width": 0.8,
        "x": 0.1,
        "y": 0.1
       },
       "content": {
        "cell": "def841eb-06c3-45dd-929f-62b453f548fb",
        "part": "whole"
       },
       "id": "4e964a33-1972-40fe-b873-a87a6dee659f"
      }
     }
    },
    "73d05e56-4397-495b-9e1f-94d218026202": {
     "id": "73d05e56-4397-495b-9e1f-94d218026202",
     "prev": null,
     "regions": {
      "f37ee98f-1599-4160-9422-4e8bf90b72f7": {
       "attrs": {
        "height": 0.8,
        "width": 0.8,
        "x": 0.1,
        "y": 0.1
       },
       "content": {
        "cell": "95b6bb9b-b79e-4ad5-8fa9-5de465ffbe66",
        "part": "whole"
       },
       "id": "f37ee98f-1599-4160-9422-4e8bf90b72f7"
      }
     }
    },
    "82b8d982-30f9-4f1f-891d-ed19ca3edcb1": {
     "id": "82b8d982-30f9-4f1f-891d-ed19ca3edcb1",
     "prev": "0f58d322-a2bd-4547-83cd-6aa2b2359a56",
     "regions": {
      "5a880491-7648-4652-927a-f080deb447c3": {
       "attrs": {
        "height": 0.8,
        "width": 0.8,
        "x": 0.1,
        "y": 0.1
       },
       "content": {
        "cell": "9105381c-8a2a-4f6a-aebd-0d2c81e8863a",
        "part": "whole"
       },
       "id": "5a880491-7648-4652-927a-f080deb447c3"
      }
     }
    },
    "832232ba-6d14-48df-ad16-13c33233ca8c": {
     "id": "832232ba-6d14-48df-ad16-13c33233ca8c",
     "prev": "49139172-8e43-45b7-b96e-95d57dd012ed",
     "regions": {
      "5618f978-8a6b-4267-ab1e-d215f6255a0b": {
       "attrs": {
        "height": 0.8,
        "width": 0.8,
        "x": 0.1,
        "y": 0.1
       },
       "content": {
        "cell": "a5eb353e-4949-47c8-ab2b-fd0dd1397442",
        "part": "whole"
       },
       "id": "5618f978-8a6b-4267-ab1e-d215f6255a0b"
      }
     }
    },
    "90d2cd1d-5c08-48ce-8efc-dca18349efb5": {
     "id": "90d2cd1d-5c08-48ce-8efc-dca18349efb5",
     "prev": "eef4e7a5-5421-472f-a810-8d811f739c71",
     "regions": {
      "8a21d0bf-f158-4e61-afba-9828f4c9f18f": {
       "attrs": {
        "height": 0.8,
        "width": 0.8,
        "x": 0.1,
        "y": 0.1
       },
       "content": {
        "cell": "713809f0-89a4-4cbd-a0bb-b004b4fa253a",
        "part": "whole"
       },
       "id": "8a21d0bf-f158-4e61-afba-9828f4c9f18f"
      }
     }
    },
    "975c109c-3be4-43ec-874f-3165e100c6c3": {
     "id": "975c109c-3be4-43ec-874f-3165e100c6c3",
     "prev": "b3985054-a78b-466c-89bd-8b94c1267f52",
     "regions": {
      "4cf4cbde-12ed-42ad-8efb-7aaa2a51b9f2": {
       "attrs": {
        "height": 0.8,
        "width": 0.8,
        "x": 0.1,
        "y": 0.1
       },
       "content": {
        "cell": "c6dfdbcc-d701-49b2-ab03-54cfa38ce867",
        "part": "whole"
       },
       "id": "4cf4cbde-12ed-42ad-8efb-7aaa2a51b9f2"
      }
     }
    },
    "a3fd22e7-cee3-4230-a79c-745e008064fa": {
     "id": "a3fd22e7-cee3-4230-a79c-745e008064fa",
     "prev": "fbb51a89-482e-4ce6-8618-3e4bb47a3897",
     "regions": {
      "a75ef572-b4ca-4bb8-a60b-8ea0f00647b2": {
       "attrs": {
        "height": 0.8,
        "width": 0.8,
        "x": 0.1,
        "y": 0.1
       },
       "content": {
        "cell": "7cc8e3c4-be1d-44f7-99f7-773347ede0bd",
        "part": "whole"
       },
       "id": "a75ef572-b4ca-4bb8-a60b-8ea0f00647b2"
      }
     }
    },
    "b3985054-a78b-466c-89bd-8b94c1267f52": {
     "id": "b3985054-a78b-466c-89bd-8b94c1267f52",
     "prev": "188d7e1c-e1fc-40ec-8b76-d82c0b466d72",
     "regions": {
      "40c0e460-7da1-4221-bc13-ce6d92cab50f": {
       "attrs": {
        "height": 0.8,
        "width": 0.8,
        "x": 0.1,
        "y": 0.1
       },
       "content": {
        "cell": "1b5dbad8-35d8-4e2a-8877-e10162c1a5ce",
        "part": "whole"
       },
       "id": "40c0e460-7da1-4221-bc13-ce6d92cab50f"
      }
     }
    },
    "ce4f74a7-ed22-4fa1-b63d-46508ecae61a": {
     "id": "ce4f74a7-ed22-4fa1-b63d-46508ecae61a",
     "prev": "832232ba-6d14-48df-ad16-13c33233ca8c",
     "regions": {
      "78536718-b9c4-42bb-ac63-0569ab4afa6b": {
       "attrs": {
        "height": 0.8,
        "width": 0.8,
        "x": 0.1,
        "y": 0.1
       },
       "content": {
        "cell": "2930326f-4ac8-4c3d-8f9b-eeb9133d3316",
        "part": "whole"
       },
       "id": "78536718-b9c4-42bb-ac63-0569ab4afa6b"
      }
     }
    },
    "ded3744c-d5d6-4ac7-9308-f111ef45b61a": {
     "id": "ded3744c-d5d6-4ac7-9308-f111ef45b61a",
     "prev": "f2b7ee47-381f-42d0-bd27-04085e3855cf",
     "regions": {
      "9d05eb8c-3cfc-4515-a852-77e5c1ea145f": {
       "attrs": {
        "height": 0.8,
        "width": 0.8,
        "x": 0.1,
        "y": 0.1
       },
       "content": {
        "cell": "dade77fd-912f-414b-9928-6fab30487a36",
        "part": "whole"
       },
       "id": "9d05eb8c-3cfc-4515-a852-77e5c1ea145f"
      }
     }
    },
    "eef4e7a5-5421-472f-a810-8d811f739c71": {
     "id": "eef4e7a5-5421-472f-a810-8d811f739c71",
     "prev": "41e91d85-a937-4036-9a05-9154fc9326b7",
     "regions": {
      "9ab36876-bcf5-4db2-a838-c8decaa84907": {
       "attrs": {
        "height": 0.8,
        "width": 0.8,
        "x": 0.1,
        "y": 0.1
       },
       "content": {
        "cell": "9346c79b-b494-41b8-b0f5-2c19cc09b5c7",
        "part": "whole"
       },
       "id": "9ab36876-bcf5-4db2-a838-c8decaa84907"
      }
     }
    },
    "f2b7ee47-381f-42d0-bd27-04085e3855cf": {
     "id": "f2b7ee47-381f-42d0-bd27-04085e3855cf",
     "prev": "90d2cd1d-5c08-48ce-8efc-dca18349efb5",
     "regions": {
      "3f25d3fd-74f6-477d-806f-b737b5327ee2": {
       "attrs": {
        "height": 0.8,
        "width": 0.8,
        "x": 0.1,
        "y": 0.1
       },
       "content": {
        "cell": "417f32d9-c120-48fa-b062-045652a91ead",
        "part": "whole"
       },
       "id": "3f25d3fd-74f6-477d-806f-b737b5327ee2"
      }
     }
    },
    "f864c1c5-c61e-4f2e-8634-51a15b78459c": {
     "id": "f864c1c5-c61e-4f2e-8634-51a15b78459c",
     "prev": "676fb43c-136c-4c2e-b431-fc3d9e73ab95",
     "regions": {
      "43d982ea-9933-4ba1-96f2-b6f71d487530": {
       "attrs": {
        "height": 0.8,
        "width": 0.8,
        "x": 0.1,
        "y": 0.1
       },
       "content": {
        "cell": "fbf2d2f2-eeb7-4509-acdc-15e4a537dd47",
        "part": "whole"
       },
       "id": "43d982ea-9933-4ba1-96f2-b6f71d487530"
      }
     }
    },
    "fbb51a89-482e-4ce6-8618-3e4bb47a3897": {
     "id": "fbb51a89-482e-4ce6-8618-3e4bb47a3897",
     "prev": "3267b11a-148b-4530-af3e-27e67fff1763",
     "regions": {
      "9323ea38-c11a-427b-97bc-c644d87520ee": {
       "attrs": {
        "height": 0.8,
        "width": 0.8,
        "x": 0.1,
        "y": 0.1
       },
       "content": {
        "cell": "b3d2f6f7-c558-4fff-9a25-91c328d8a400",
        "part": "whole"
       },
       "id": "9323ea38-c11a-427b-97bc-c644d87520ee"
      }
     }
    },
    "fec55f28-172e-4ec5-bd5e-420237798ccf": {
     "id": "fec55f28-172e-4ec5-bd5e-420237798ccf",
     "prev": "82b8d982-30f9-4f1f-891d-ed19ca3edcb1",
     "regions": {
      "a861688b-c457-4b83-9508-72be11d11be4": {
       "attrs": {
        "height": 0.8,
        "width": 0.8,
        "x": 0.1,
        "y": 0.1
       },
       "content": {
        "cell": "7d99ead2-a133-40b4-90d9-53fbfa7f0f93",
        "part": "whole"
       },
       "id": "a861688b-c457-4b83-9508-72be11d11be4"
      }
     }
    }
   },
   "themes": {}
  }
 },
 "nbformat": 4,
 "nbformat_minor": 1
}
