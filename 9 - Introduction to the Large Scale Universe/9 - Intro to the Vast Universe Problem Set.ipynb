{
 "cells": [
  {
   "cell_type": "markdown",
   "metadata": {},
   "source": [
    "# Our Vast Universe Probed with Big Data\n",
    "\n",
    "## Authors\n",
    "Written by Stephanie Juneau, NOAO (sjuneau@noao.edu), adapted for PHYS 500 class by B.W. Holwerda\n",
    "\n",
    "## Learning Goals\n",
    "* redshift from SDSS spectra\n",
    "* template vs redshifted spectra\n",
    "* the on-sky distribution of galaxies\n",
    "* Redshift as the third dimension\n",
    "* Large scale structure\n",
    "* zoom in/out \n",
    "* all-sky projection\n",
    "\n",
    "## Keywords\n",
    "redshift, galaxy spectra, template spectra, absorption features, large scale structure, voids, walls, clusters\n",
    "\n",
    "## Companion Content\n",
    "Ryden & Peterson's \"Foundations in Astrophysics\" \n",
    "\n",
    "## Summary\n",
    "\n",
    "1. compare spectra to identify redshift\n",
    "2. compare different galaxy spectra to note differences in redshift\n",
    "3. measure redshift for a mystery galaxy (from SLACS survey)\n",
    "4. map out large scale structure on the sky\n",
    "5. zoom/in out to identify structures.\n",
    "\n",
    "<hr>"
   ]
  },
  {
   "cell_type": "markdown",
   "metadata": {},
   "source": [
    "\n",
    "## Student Name and ID:\n",
    "\n",
    "\n",
    "\n",
    "## Date:\n",
    "\n",
    "<hr>"
   ]
  },
  {
   "cell_type": "markdown",
   "metadata": {},
   "source": [
    "## BEGIN HERE: How to use this notebook\n",
    "\n",
    "The webpage you are in is actually an app - much like you'd run on your cellphone. This app consists of cells. \n",
    "\n",
    "Each \"input\" cell (something with an \"In\" to the left) contains code - instructions to make the computer do something.\n",
    "\n",
    "To activate or select a cell, you first need to click on it.\n",
    "\n",
    "You <u>**execute a cell with Shift+Enter**</u> on the keyboard - this makes the computer execute your instructions. That's what this app does! \n",
    "\n",
    "You can <u>**modify the code by typing into the cell**</u> and then execute again the new code with Shift+Enter.\n",
    "\n",
    "You can try it for yourself at https://try.jupyter.org/"
   ]
  },
  {
   "cell_type": "markdown",
   "metadata": {},
   "source": [
    "## How Far Away are Galaxies?"
   ]
  },
  {
   "cell_type": "markdown",
   "metadata": {},
   "source": [
    "In this activity, you will learn how astronomers measure distances to galaxies. You will get to compare galaxies to figure out which ones are closer or further away from us. You can then use this method for many more galaxies on your own as well!"
   ]
  },
  {
   "cell_type": "code",
   "execution_count": 8,
   "metadata": {},
   "outputs": [
    {
     "name": "stdout",
     "output_type": "stream",
     "text": [
      "Using matplotlib backend: nbAgg\n",
      "Populating the interactive namespace from numpy and matplotlib\n"
     ]
    }
   ],
   "source": [
    "# Ignore this stuff - it is to setup the plotting environment in your browser\n",
    "# Just hit Shift + Enter here, and move on\n",
    "%matplotlib notebook\n",
    "%pylab\n",
    "import matplotlib.path as mpath\n",
    "from astroML.datasets import fetch_sdss_spectrum, fetch_vega_spectrum, fetch_sdss_S82standards\n",
    "from astroML.plotting import MultiAxes\n",
    "from IPython.core.display import Image, display"
   ]
  },
  {
   "cell_type": "markdown",
   "metadata": {},
   "source": [
    "As in the first notebook, we are going to use data from the <a href=\"http://sdss.org\">**Sloan Digital Sky Survey (SDSS)**</a>. \n",
    "This project used a telescope at Apache Point in New Mexico to look at the northern sky.\n",
    "<figure>\n",
    "<center>\n",
    "<img src=\"https://apod.nasa.gov/apod/image/9806/sloan_fermilab_big.jpg\", width=300>\n",
    "<figcaption>The Sloan Telescope at Apache Point, New Mexico.\n",
    "<b>Image Credit:</b> SDSS Team, Fermilab Visual Media Services.</figcaption>\n",
    "</center>\n",
    "</figure>\n",
    "\n",
    "The Sloan survey team found millions of stars and galaxies, and made their big data set public. In this activity, we will retrieve and examine galaxy data!\n",
    "\n",
    "So how did Sloan take spectra of millions of stars and galaxies? The team used metal plates like the one shown below, with a hundreds of holes aligned with the stars and galaxies to be observed. An optical fiber is placed in each hole in order to transfer the light to the instrument and camera. As you will see below, the data are identified by their <b>Plate</b> number, their <b>Fiber</b> number, and the date when they were obtained - the <b>MJD</b> (<a href=\"https://en.wikipedia.org/wiki/Julian_day\">Modified Julian Date</a>).\n",
    "<figure>\n",
    "<center>\n",
    "<img src=\"http://www.nature.com/polopoly_fs/7.2192.1325671958!/image/Dark-Energy.jpg_gen/derivatives/fullsize/Dark-Energy.jpg\", width=300>\n",
    "<figcaption>Holes in aluminum plates let the light from stars and galaxies passed to an optical fiber to the instrument. <b>Image credit:</b> D. Long, SDSS-III </figcaption>\n",
    "</center>\n",
    "</figure>\n",
    "\n",
    "<figure>\n",
    "<center>\n",
    "<img src=\"http://newscenter.lbl.gov/wp-content/uploads/sites/2/2008/09/schlegel.jpg\", width=300>\n",
    "<figcaption>David Schlegel, Principal Investigator of the BOSS survey (follow-up to SDSS), holding one fiber plug plate.\n",
    "</center>\n",
    "</figure>\n",
    "\n",
    "There were thousands of plates used (~2500 for SDSS), each with 640 fibers, which together gives 1.6 million spectra (including galaxies, stars, and extra spectra on blank sky).\n"
   ]
  },
  {
   "cell_type": "markdown",
   "metadata": {},
   "source": [
    "## Exercise 1.1: Plot a Reference Spectrum\n",
    "\n",
    "A reference spectrum means that it is at redshift zero (not moving toward or away from us). In this case, the reference spectrum is that of a single star. We are especially interested in the bluest part of this spectrum (3800-7000 Angstrom)."
   ]
  },
  {
   "cell_type": "code",
   "execution_count": 9,
   "metadata": {},
   "outputs": [],
   "source": [
    "# Fetch single spectrum - Enter the same \"Plate\", \"MJD\" and \"Fiber\" numbers here\n",
    "# Then hit Shift+Enter\n",
    "plate = 396\n",
    "mjd = 51816\n",
    "fiber = 605\n",
    "spec = fetch_sdss_spectrum(plate, mjd, fiber)\n",
    "\n",
    "wavelength = spec.wavelength()\n",
    "starspectrum = spec.spectrum/spec.spectrum.max()\n",
    "\n",
    "import matplotlib.pyplot as plt\n",
    "\n",
    "# now, we can plot the reference spectrum (at redshift=0)\n",
    "# student work\n",
    "\n",
    "\n"
   ]
  },
  {
   "cell_type": "markdown",
   "metadata": {},
   "source": [
    "## Exercise 1.2: Plot a distant galaxy spectrum\n",
    "\n",
    "Here, you will plot the spectrum of a galaxy. Notice if there are similarities and differences in its shape and lines relative to the reference spectrum."
   ]
  },
  {
   "cell_type": "code",
   "execution_count": 10,
   "metadata": {},
   "outputs": [],
   "source": [
    "# Fetch the first galaxy spectrum\n",
    "# Then hit Shift+Enter\n",
    "plate = 2434\n",
    "mjd = 53826\n",
    "fiber = 359\n",
    "galspec = fetch_sdss_spectrum(plate, mjd, fiber)\n",
    "\n",
    "galwavelength = galspec.wavelength()\n",
    "galaxyspectrum = galspec.spectrum/galspec.spectrum.max()\n",
    "\n",
    "# student work\n",
    "\n",
    "\n"
   ]
  },
  {
   "cell_type": "markdown",
   "metadata": {},
   "source": [
    "## <font color='purple'>Questions</font>\n",
    "<ul>\n",
    "<font color='purple'><li>Do you notice differences between the shapes two spectra? <br>\n",
    "<li>Do you notice similar patterns in the line features (dips)?</font></ul>"
   ]
  },
  {
   "cell_type": "markdown",
   "metadata": {},
   "source": [
    "*your answers here*"
   ]
  },
  {
   "cell_type": "markdown",
   "metadata": {},
   "source": [
    "\n",
    "## Exercise 1.3: Measure Redshifts\n",
    "\n",
    "The next step here is to overlay a reference spectrum (called a template) onto the galaxy spectra from above.\n",
    "Reminder: a galaxy is a collection of billion of stars, so the shape of the spectrum is not identical to the reference spectrum of a single star. But because the stars have the same elements, notice similar \"dips\" (absorption lines) in the spectra. \n",
    "\n",
    "$$ z = {\\lambda_{observed} - \\lambda_{rest} \\over \\lambda_{rest} } $$\n",
    "\n",
    "or \n",
    "\n",
    "$${ \\lambda_{observed} \\over \\lambda_{rest} } = (z+1) $$\n",
    "\n",
    "Redshift the reference spectrum by multiplying the wavelength by (1+z). Blueshift it by multiplying it by (1-z). First we set z==0"
   ]
  },
  {
   "cell_type": "code",
   "execution_count": 11,
   "metadata": {},
   "outputs": [],
   "source": [
    "# redshift value (0 for a star, and upward for distant galaxies e.g.: \n",
    "# z = 0.01, 0.02, 0.05, ... 0.1, 0.2, ... 1.0)\n",
    "# First run this cell with zero redshift, and then adjust the value.\n",
    "z1 = 0.00\n"
   ]
  },
  {
   "cell_type": "markdown",
   "metadata": {},
   "source": [
    "## <font color='purple'>Question:</font>\n",
    "<ul><font color='purple'><li>Do you notice how the galaxy spectrum is shifted with respect to the reference spectrum?</font><br> </ul>\n",
    "This is what we saw as the \"redshift\" due to the expansion of the universe, which causes galaxies to appear to recede away from us.\n",
    "\n",
    "Change the redshift of the galaxy until you have have a match between star and galaxy absorption features. What is the redshift?"
   ]
  },
  {
   "cell_type": "markdown",
   "metadata": {},
   "source": [
    "*your answer here*"
   ]
  },
  {
   "cell_type": "markdown",
   "metadata": {},
   "source": [
    "## Exercise 1.3 MYSTERY Galaxy\n",
    "Each group will receive the information to fetch a different spectrum of a mystery galaxy. This information will be on a piece of paper and contains PLATE, MJD, FIBER and NORM numbers. Enter these numbers in the cell below to measure the redshift (like you did above) for a new galaxy."
   ]
  },
  {
   "cell_type": "code",
   "execution_count": 12,
   "metadata": {},
   "outputs": [],
   "source": [
    "# Now we do it again for a NEW galaxy!\n",
    "\n",
    "# Replace the plate, mjd, fiber and norm with the numbers you received\n",
    "# Then hit Shift+Enter\n",
    "\n",
    "# ASSIGN EACH STUDENT A GALAXY.\n",
    "\n",
    "plate =655\n",
    "mjd = 52162\n",
    "fiber =392\n",
    "\n",
    "spec2 = fetch_sdss_spectrum(plate, mjd, fiber)\n",
    "\n",
    "gal2wavelength = spec2.wavelength() \n",
    "gal2spectrum = spec2.spectrum/spec2.spectrum.max()\n",
    "\n",
    "# redshift value (0 for a star, and upward for distant galaxies e.g.: \n",
    "# z=0.01, 0.02, 0.05, ... 0.1, 0.2, 0.3, ... 1.0)\n",
    "# First run this cell with zero redshift, and then adjust the value.\n",
    "z2 = 0.115\n",
    "\n",
    "#student work here"
   ]
  },
  {
   "cell_type": "markdown",
   "metadata": {},
   "source": [
    "## <font color='purple'>Questions:</font>\n",
    "<ul>\n",
    "<font color='purple'><li>Which galaxy is closer to us?<br> \n",
    "<li>Further away from us?</font><br></ul>\n",
    "\n",
    "Now, let's check the redshift and learn more information about those two galaxies. You need to COPY and PASTE the following: http://cas.sdss.org/dr14/en/tools/explore/Summary.aspx in a new browser. **Clicking on the link does not work.**  \n",
    "Click on \"Search\" on the left hand side menu bar, and then enter the \"Plate\", \"Fiber\" and \"MJD\" for one galaxy at a time, and hit \"Go\".\n",
    "If you click on the image, you can move around, zoom in and out - it's like Google Maps for the night sky!"
   ]
  },
  {
   "cell_type": "code",
   "execution_count": 13,
   "metadata": {},
   "outputs": [
    {
     "ename": "SyntaxError",
     "evalue": "invalid syntax (<ipython-input-13-63e4678cdb77>, line 1)",
     "output_type": "error",
     "traceback": [
      "\u001b[0;36m  File \u001b[0;32m\"<ipython-input-13-63e4678cdb77>\"\u001b[0;36m, line \u001b[0;32m1\u001b[0m\n\u001b[0;31m    *your answer here*\u001b[0m\n\u001b[0m               ^\u001b[0m\n\u001b[0;31mSyntaxError\u001b[0m\u001b[0;31m:\u001b[0m invalid syntax\n"
     ]
    }
   ],
   "source": [
    "*your answer here*"
   ]
  },
  {
   "cell_type": "markdown",
   "metadata": {},
   "source": [
    "# <u>Activity 2: Look at the Position of Many Galaxies</u>\n",
    "\n",
    "Similarly to using coordinates of latitude and longitude, the coordinates on the sky are defined onto a sphere. They are called RA (for Right Ascension) and Dec (for Declination). There are two illustrations below of these coordinate systems.\n",
    "\n",
    "<figure>\n",
    "<center>\n",
    "<img src=\"http://voyages.sdss.org/wp-content/uploads/2015/10/pre-flight-celestial-sphere.jpg\", width=300>\n",
    "<figcaption>Illustration of the celestial coordinate system with RA and Dec. You can read <a href=http://dev.skyserver.sdss3.org/voyages/pre-flight/ra-and-dec.aspx>here</a> for an explanation by the SDSS team. </figcaption>\n",
    "</center>\n",
    "</figure>\n",
    "\n",
    "<figure>\n",
    "<center>\n",
    "<img src=\"https://upload.wikimedia.org/wikipedia/commons/9/98/Ra_and_dec_on_celestial_sphere.png\", width=300>\n",
    "<figcaption>Illustration of the celestial coordinate system with RA and Dec. You can read on Wikipedia about <a href=https://en.wikipedia.org/wiki/Right_ascension>Right Ascension</a> and <a href=https://en.wikipedia.org/wiki/Declination>Declination</a>. </figcaption>\n",
    "</center>\n",
    "</figure>\n"
   ]
  },
  {
   "cell_type": "markdown",
   "metadata": {},
   "source": [
    "## Exercise 2.1: Selecting Galaxies in a Region of the Sky\n",
    "\n",
    "Next, we will fetch the positions of galaxies on the sky, and plot their RA and Dec coordinates.\n"
   ]
  },
  {
   "cell_type": "code",
   "execution_count": 14,
   "metadata": {},
   "outputs": [],
   "source": [
    "#Code that we will need to fetch galaxies' coordinates\n",
    "from astroML.datasets import fetch_sdss_specgals\n",
    "import matplotlib.cm as cm\n",
    "\n",
    "#For 3D Plotting:\n",
    "import matplotlib.pyplot as plt\n",
    "from mpl_toolkits.mplot3d import Axes3D"
   ]
  },
  {
   "cell_type": "markdown",
   "metadata": {},
   "source": [
    "Now that the packages are loaded, run the cells below to actually fetch the galaxy sample and plot their positions on the sky.\n",
    "\n",
    "Let us focus on a window of the sky RA=0-10 and DEC=10-18 *use xlim and ylim*"
   ]
  },
  {
   "cell_type": "code",
   "execution_count": 15,
   "metadata": {},
   "outputs": [
    {
     "name": "stdout",
     "output_type": "stream",
     "text": [
      "Done retrieving the galaxy sample\n",
      " \n",
      "Range for RA values\n",
      "   0.000670623209317 359.997375583\n",
      "Range for DEC values\n",
      "   -11.2528270389 70.2873996284\n",
      " \n",
      "Range for RA values after conversion\n",
      "   -179.999329377 179.997375583\n"
     ]
    }
   ],
   "source": [
    "# Fetch the sample from the Sloan data\n",
    "data = fetch_sdss_specgals()\n",
    "print('Done retrieving the galaxy sample')\n",
    "# Making this file local for sure...\n",
    "\n",
    "# Define the coordinate variables for plotting\n",
    "RA = data['ra']\n",
    "DEC = data['dec']\n",
    "\n",
    "print(' ')\n",
    "print('Range for RA values')\n",
    "print('  ',np.amin(RA),np.amax(RA))\n",
    "print('Range for DEC values')\n",
    "print('  ',np.amin(DEC),np.amax(DEC))\n",
    "print(' ')\n",
    "\n",
    "# convert RA range to [-180,+180] instead of [0,360]\n",
    "RA -= 180\n",
    "\n",
    "print('Range for RA values after conversion')\n",
    "print ('  ',np.amin(RA),np.amax(RA))\n",
    "\n",
    "#plot the RA/DEC positions\n",
    "\n",
    "\n",
    "# student work here\n"
   ]
  },
  {
   "cell_type": "markdown",
   "metadata": {},
   "source": [
    "## Exercise 2.2 Adding the 3rd Dimension\n",
    "\n",
    "We saw before that in order to know the full distribution in 3D, we need to know how far away the galaxies are located. Here, we will add the information from the redshift. Remember: the larger the redshift, the further away the galaxy!\n",
    "\n",
    "First, we will plot all galaxies in red, and show galaxies that have approximately the same redshift in black. Select for redshifts between z=0.10 and z=0.12. (*use np.where*) \n",
    "\n",
    "Let us focus on a window of the sky RA=0-10 and DEC=10-18 *use xlim and ylim*"
   ]
  },
  {
   "cell_type": "code",
   "execution_count": 16,
   "metadata": {},
   "outputs": [
    {
     "name": "stdout",
     "output_type": "stream",
     "text": [
      "Done retrieving the galaxy sample\n",
      "[ 0.02122228  0.20378332  0.06465632 ...,  0.03541545  0.26692075\n",
      "  0.25441918]\n",
      "(array([     9,     10,     17, ..., 661584, 661587, 661592]),)\n"
     ]
    }
   ],
   "source": [
    "#Fetch the sample from the Sloan data\n",
    "data = fetch_sdss_specgals()\n",
    "print('Done retrieving the galaxy sample')\n",
    "\n",
    "#define the variables for plotting\n",
    "RA = data['ra']\n",
    "DEC = data['dec']\n",
    "\n",
    "# convert RA range to [-180,+180] instead of [0,360]\n",
    "RA -= 180\n",
    "\n",
    "#define redshift variable z\n",
    "z = data['z']\n",
    "print(z)\n",
    "\n",
    "#pick a redshift range to highlight in a different color\n",
    "# USE np.where\n",
    "rz = np.where(np.absolute(z-0.08)<0.01)\n",
    "print(rz)\n",
    "\n",
    "\n",
    "#plot the RA/DEC positions\n",
    "\n",
    "# student work here\n"
   ]
  },
  {
   "cell_type": "markdown",
   "metadata": {},
   "source": [
    "Now, instead of showing just one interval of redshift in black, we will show the redshift of each galaxy color-coded. Each galaxy is shown with a dot, and each dot will have a color corresponding to the redshift: purple/blue colors mean a low redshift like between 0-0.05, then green/yellow mean slightly higher redshift like 0.1, and so on until the higher redshift shown here of 0.2 in red. Remember that this means that points with exactly the same color are at the same distance from us!\n",
    "\n",
    "For this we use a neat function in matplotlib called plt.scatter() instead of plt.plot()\n",
    "\n",
    "Suppose I have values for X,Y and Z and I want to plot X against Y and use Z as the color parameter:\n",
    "\n",
    "plt.scatter(X, Y,s=4,c=Z, lw=0,cmap=plt.cm.rainbow,vmin=0, vmax=0.2)\n",
    "\n",
    "and a second command which shows the color bar:\n",
    "\n",
    "plt.colorbar() at the end of the plotting."
   ]
  },
  {
   "cell_type": "code",
   "execution_count": 17,
   "metadata": {},
   "outputs": [
    {
     "name": "stdout",
     "output_type": "stream",
     "text": [
      "Done retrieving the galaxy sample\n"
     ]
    }
   ],
   "source": [
    "#Fetch the sample from the Sloan data\n",
    "data = fetch_sdss_specgals()\n",
    "print('Done retrieving the galaxy sample')\n",
    "\n",
    "#define the variables for plotting\n",
    "RA = data['ra']\n",
    "DEC = data['dec']\n",
    "\n",
    "# convert RA range to [-180,+180] instead of [0,360]\n",
    "RA -= 180\n",
    "\n",
    "z = data['z']\n",
    "\n"
   ]
  },
  {
   "cell_type": "markdown",
   "metadata": {},
   "source": [
    "The color bar to the right-hand side shows the correspondence between color and redshift. As mentioned before, points with exactly the same color are at the same distance from us. Purple points are the closest to us, then blue, aqua, green and so on. Think about which galaxies/colors are near and which galaxies/colors are far. \n",
    "\n",
    "## <font color='purple'>Questions:</font>\n",
    "<ul>\n",
    "<font color='purple'><li>Can you use this information to imagine the distribution of galaxies in 3D?<br> \n",
    "<li>Do you notice any structure together at the same distance from us?</font><br></ul>\n",
    "\n",
    "The black rectangle in the figure shows where we will zoom in during the next exercise below."
   ]
  },
  {
   "cell_type": "markdown",
   "metadata": {},
   "source": [
    "*your answer here*"
   ]
  },
  {
   "cell_type": "markdown",
   "metadata": {},
   "source": [
    "## Exercise 2.3 Zooming In and Zooming Out\n",
    "\n",
    "Now, we will repeat the plots from the exercise above, but with a zoom on a smaller region (\"zooming in\"), and then over a larger region (\"zooming out\"). First we limit ourselve to RA = 4 -- 6 and DEC = 11 -- 13. Keep using scatter to mark the redshift of galaxies."
   ]
  },
  {
   "cell_type": "code",
   "execution_count": 18,
   "metadata": {},
   "outputs": [
    {
     "name": "stdout",
     "output_type": "stream",
     "text": [
      "Done retrieving the galaxy sample\n"
     ]
    }
   ],
   "source": [
    "# ZOOMING IN\n",
    "\n",
    "#Fetch the sample from the Sloan data\n",
    "data = fetch_sdss_specgals()\n",
    "print('Done retrieving the galaxy sample')\n",
    "\n",
    "#define the variables for plotting\n",
    "RA = data['ra']\n",
    "DEC = data['dec']\n",
    "\n",
    "# convert RA range to [-180,+180] instead of [0,360]\n",
    "RA -= 180\n",
    "z = data['z']\n",
    "\n",
    "#plot the RA/DEC positions\n",
    "\n",
    "# student work here\n"
   ]
  },
  {
   "cell_type": "markdown",
   "metadata": {},
   "source": [
    "## <font color='purple'>Questions:</font>\n",
    "<ul><font color='purple'><li>What do see? <br>\n",
    "<li>Any interesting galaxy structures? <br>\n",
    "<li>What galaxy structures are closer/further from you? <br>\n",
    "</font></ul>\n",
    "\n",
    "<br>\n"
   ]
  },
  {
   "cell_type": "raw",
   "metadata": {},
   "source": [
    "*your answer here*"
   ]
  },
  {
   "cell_type": "markdown",
   "metadata": {},
   "source": [
    "# Now, let's step back and plot galaxies over a large region of the sky!\n",
    "\n",
    "RA= -15 - 15, DEC = 0 - 30\n"
   ]
  },
  {
   "cell_type": "code",
   "execution_count": 19,
   "metadata": {},
   "outputs": [
    {
     "name": "stdout",
     "output_type": "stream",
     "text": [
      "Done retrieving the galaxy sample\n"
     ]
    }
   ],
   "source": [
    "# ZOOMING OUT\n",
    "\n",
    "#Fetch the sample from the Sloan data\n",
    "data = fetch_sdss_specgals()\n",
    "print('Done retrieving the galaxy sample')\n",
    "\n",
    "#define the variables for plotting\n",
    "RA = data['ra']\n",
    "DEC = data['dec']\n",
    "\n",
    "# convert RA range to [-180,+180] instead of [0,360]\n",
    "RA -= 180\n",
    "z = data['z']\n",
    "\n",
    "\n",
    "\n",
    "#plot the RA/DEC positions\n",
    "# student work here\n",
    "s=1.0   #symbol size  (better make it small...)\n"
   ]
  },
  {
   "cell_type": "markdown",
   "metadata": {},
   "source": [
    "The color bar to the right-hand side shows the correspondence between color and redshift.  You can compare the size of the two regions directly. Compare numbers using len and np.where.\n",
    "\n",
    "## <font color='purple'>Questions:</font>\n",
    "<ul>\n",
    "<font color='purple'><li>How many times more galaxies are in the large (zoomed out) view relative to the small (zoomed in) view?<br>\n",
    "<li>How many times can you fit the small region within the large region? (Hint: compute the size from the axes) <br>\n",
    "<li>Are those two numbers above the same? What does it mean? <br>\n",
    "<li>What do you see now on the zoomed out view?<br>\n",
    "<li>Are those structures smaller or larger?</font></ul>"
   ]
  },
  {
   "cell_type": "markdown",
   "metadata": {},
   "source": [
    "*your answer here*"
   ]
  },
  {
   "cell_type": "markdown",
   "metadata": {},
   "source": [
    "## Bonus: Plot Full Sample over Sky Projection\n",
    "\n",
    "Below, we will again plot the positions of galaxies, and include the information on redshift as the color (but with a different color scheme).\n",
    "\n",
    "The difference with the steps above is that we will now plot the sample of galaxies over the full sky. The SDSS survey does not cover the full sky, so we will see what we call the \"footprint\" of the survey. This means the regions of the sky where the telescope was pointed to gather images and spectra."
   ]
  },
  {
   "cell_type": "code",
   "execution_count": 20,
   "metadata": {},
   "outputs": [
    {
     "ename": "SyntaxError",
     "evalue": "Missing parentheses in call to 'print' (<ipython-input-20-b72ab1b558f8>, line 6)",
     "output_type": "error",
     "traceback": [
      "\u001b[0;36m  File \u001b[0;32m\"<ipython-input-20-b72ab1b558f8>\"\u001b[0;36m, line \u001b[0;32m6\u001b[0m\n\u001b[0;31m    print 'Done retrieving the galaxy sample'\u001b[0m\n\u001b[0m                                            ^\u001b[0m\n\u001b[0;31mSyntaxError\u001b[0m\u001b[0;31m:\u001b[0m Missing parentheses in call to 'print'\n"
     ]
    }
   ],
   "source": [
    "#------------------------------------------------------------\n",
    "# plot the RA/DEC in an area-preserving projection\n",
    "\n",
    "#Actually fetch the sample from the Sloan data\n",
    "data = fetch_sdss_specgals()\n",
    "print 'Done retrieving the galaxy sample'\n",
    "\n",
    "# Define coordinate variables\n",
    "RA = data['ra']\n",
    "DEC = data['dec']\n",
    "\n",
    "# convert coordinates to degrees\n",
    "RA -= 180\n",
    "RA *= np.pi / 180\n",
    "DEC *= np.pi / 180\n",
    "\n",
    "# keep galaxies in a selected area\n",
    "#rkeep = np.where(RA between [-30,0] and DEC between [15,30])\n",
    "\n",
    "figure()\n",
    "ax = plt.axes(projection='mollweide')\n",
    "\n",
    "ax = plt.axes()\n",
    "ax.grid()\n",
    "plt.scatter(RA, DEC, s=1, lw=0, c=data['z'], cmap=plt.cm.rainbow,\n",
    "            vmin=0, vmax=0.2)\n",
    "\n",
    "plt.title('SDSS DR8 Spectroscopic Galaxies')\n",
    "cb = plt.colorbar(cax=plt.axes([0.05, 0.1, 0.9, 0.05]),\n",
    "                  orientation='horizontal',\n",
    "                  ticks=np.linspace(0, 0.2, 9))\n",
    "cb.set_label('redshift')"
   ]
  },
  {
   "cell_type": "markdown",
   "metadata": {},
   "source": [
    "HINT: for more color maps, you can look at this reference <a href=http://matplotlib.org/examples/color/colormaps_reference.html>page</a>. For example, you can replace \"rainbow\" with \"autumn_r\"."
   ]
  },
  {
   "cell_type": "code",
   "execution_count": null,
   "metadata": {
    "collapsed": true
   },
   "outputs": [],
   "source": []
  }
 ],
 "metadata": {
  "anaconda-cloud": {},
  "kernelspec": {
   "display_name": "Python 3",
   "language": "python",
   "name": "python3"
  },
  "language_info": {
   "codemirror_mode": {
    "name": "ipython",
    "version": 3
   },
   "file_extension": ".py",
   "mimetype": "text/x-python",
   "name": "python",
   "nbconvert_exporter": "python",
   "pygments_lexer": "ipython3",
   "version": "3.5.4"
  }
 },
 "nbformat": 4,
 "nbformat_minor": 2
}
