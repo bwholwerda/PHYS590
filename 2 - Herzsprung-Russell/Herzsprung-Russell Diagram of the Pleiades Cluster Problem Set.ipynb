{
 "cells": [
  {
   "cell_type": "markdown",
   "metadata": {},
   "source": [
    "# Herzsprung-Russell Diagram of The Pleiades\n",
    "\n",
    "## Authors\n",
    "B.W. Holwerda\n",
    "\n",
    "## Learning Goals\n",
    "* Understand the relation between color and magnitude of stars.\n",
    "* Stellar Types\n",
    "\n",
    "## Keywords\n",
    "stellar types, color and luminosity of stars, H-R Diagram, The Pleiades\n",
    "\n",
    "## Companion Content\n",
    "Ryden & Peterson's \"Foundations in Astrophysics\" \n",
    "\n",
    "## Summary\n",
    "\n",
    "Stellar types in the Pleiades can be identified using their luminosity and color. Unlike other constellations, the Pleiades are all at the same distance and age (they all formed at the same time). \n",
    "\n",
    "<hr>"
   ]
  },
  {
   "cell_type": "markdown",
   "metadata": {},
   "source": [
    "\n",
    "## Student Name and ID:\n",
    "\n",
    "\n",
    "\n",
    "## Date:\n",
    "\n",
    "<hr>"
   ]
  },
  {
   "cell_type": "markdown",
   "metadata": {},
   "source": [
    "This is an assignment based on this webpage: \n",
    "\n",
    "http://www.atnf.csiro.au/outreach/education/senior/astrophysics/stellarevolution_pleiadesact.html\n",
    "\n"
   ]
  },
  {
   "cell_type": "markdown",
   "metadata": {},
   "source": [
    "## **Introduction**\n",
    "\n",
    "The Pleiades is a relatively close open cluster. The six or seven stars visible to the naked eye form a tight grouping of stars. They are easily visible in the winter months from the Northern hemisphere. In this exercise, you will determine the colour of many cluster members and plot them on a Colour-Magnitude diagram. This is just a type of Hertzsprung-Russell (HR) diagram in which we plot Colour Index rather than Spectral Class on the horizontal axis; and use the apparent visual magnitude, V, for the vertical axis.\n",
    "\n",
    "## **Data**\n",
    "\n",
    "Photometric measurements of the Pleiades cluster can be used to determine the age of the cluster and its distance. By taking images of the stars through separate blue (B) and visual (V) filters we can measure the apparent magnitude of each star in each waveband. In this exercise this stage has already been done, presenting you with a table with two magnitude values for each star in the csv file (pleiadesdata.csv). \n",
    "\n",
    "exercises:\n",
    "\n",
    "1. plot the B-V vs V-band apparent magnitude on the x and y-axes respectively. Note groupings of stars.\n",
    "\n",
    "2. Convert the apparent V-band magnitude into an *absolute* magnitude.\n",
    "\n",
    "3. Plot the B-V vs *absolute* V-band magnitude. \n",
    "\n",
    "4. Mark the Stellar Spectral Classes in this plot.\n",
    "\n",
    "## Spectral Classes\n",
    "\n",
    "|Spectral Class |\tB - V |\n",
    "|--- | --- | \n",
    "|O5\t| -0.35 |\n",
    "|B0\t| -0.31 |\n",
    "|B5\t| -0.16 |\n",
    "|A0\t|  0.00 |\n",
    "|A5\t| +0.13 |\n",
    "|F0\t| +0.27 |\n",
    "|F5\t| +0.42 |\n",
    "|G0\t| +0.58 |\n",
    "|G5\t| +0.70 |\n",
    "|K0\t| +0.89 |\n",
    "|K5\t| +1.18 |\n",
    "|M0\t| +1.45 |\n",
    "|M5\t| +1.63 |\n",
    "\n",
    "5. Which Spectral Classes are identified in the Pleiades?\n",
    "\n",
    "6. What are the reasons why some are missing?\n",
    "\n"
   ]
  },
  {
   "cell_type": "markdown",
   "metadata": {},
   "source": [
    "Your Answer Here."
   ]
  },
  {
   "cell_type": "code",
   "execution_count": 2,
   "metadata": {},
   "outputs": [
    {
     "name": "stdout",
     "output_type": "stream",
     "text": [
      "Star no. V mag (m) B Mag CI =B-V V mag Abs V (M) m-M\n",
      "-------- --------- ----- ------- ----- --------- ---\n",
      "       1     10.44 11.06    0.62 10.44        --  --\n",
      "       2      7.52  7.62     0.1  7.52        --  --\n",
      "       3       6.6  6.57   -0.03   6.6        --  --\n",
      "       4      7.97  8.15    0.18  7.97        --  --\n",
      "       5      5.09  5.01   -0.08  5.09        --  --\n",
      "       6      3.64  3.56   -0.08  3.64        --  --\n",
      "       7      8.12  8.34    0.22  8.12        --  --\n",
      "       8     11.35 12.13    0.78 11.35        --  --\n",
      "       9      6.95  7.07    0.12  6.95        --  --\n",
      "      10     10.91 11.77    0.86 10.91        --  --\n",
      "     ...       ...   ...     ...   ...       ... ...\n",
      "      47     10.13 10.75    0.62 10.13        --  --\n",
      "      48      8.04  8.25    0.21  8.04        --  --\n",
      "      49      7.85  8.05     0.2  7.85        --  --\n",
      "      50      4.31   4.2   -0.11  4.31        --  --\n",
      "      51     10.39 11.02    0.63 10.39        --  --\n",
      "      52      5.46  5.42   -0.04  5.46        --  --\n",
      "      53      8.58  8.92    0.34  8.58        --  --\n",
      "      54      11.4 12.25    0.85  11.4        --  --\n",
      "      55      3.71   3.6   -0.11  3.71        --  --\n",
      "      56     10.81 11.61     0.8 10.81        --  --\n",
      "      57     11.93 12.87    0.94 11.93        --  --\n",
      "Length = 57 rows\n"
     ]
    }
   ],
   "source": [
    "from astropy.table import Table\n",
    "import numpy as np\n",
    "import matplotlib.pyplot as plt\n",
    "from pylab import *\n",
    "\n",
    "t = Table.read('pleiadesdata.csv', format='ascii.csv')\n",
    "print(t)"
   ]
  },
  {
   "cell_type": "code",
   "execution_count": 3,
   "metadata": {},
   "outputs": [],
   "source": [
    "Vmag = t['V mag (m)']\n",
    "Bmag = t['B Mag']\n",
    "BV = Bmag - Vmag\n"
   ]
  },
  {
   "cell_type": "markdown",
   "metadata": {},
   "source": [
    "## Exercise 1 - plot the B-V vs V-band apparent magnitude on the x and y-axes respectively. Note groupings of stars."
   ]
  },
  {
   "cell_type": "code",
   "execution_count": null,
   "metadata": {},
   "outputs": [],
   "source": []
  },
  {
   "cell_type": "markdown",
   "metadata": {},
   "source": [
    "## Exercise 2. Convert the apparent V-band magnitude into an *absolute* magnitude."
   ]
  },
  {
   "cell_type": "code",
   "execution_count": 1,
   "metadata": {},
   "outputs": [],
   "source": [
    "# Plot the Absolute magnitude\n",
    "d = 116 # parsecs\n"
   ]
  },
  {
   "cell_type": "markdown",
   "metadata": {},
   "source": [
    "## Exercise 3. Plot the B-V vs *absolute* V-band magnitude. "
   ]
  },
  {
   "cell_type": "code",
   "execution_count": null,
   "metadata": {},
   "outputs": [],
   "source": []
  },
  {
   "cell_type": "markdown",
   "metadata": {},
   "source": [
    "## Exercise 4. Mark the Stellar Spectral Classes in this plot."
   ]
  },
  {
   "cell_type": "code",
   "execution_count": 2,
   "metadata": {},
   "outputs": [],
   "source": [
    "specclass = ['O5','B0','B5','A0','A5','F0','F5','G0','G5','K0','K5','M0','M5']\n",
    "bv_class = [-0.35, -0.31, -0.16, 0.00, +0.13, +0.27, +0.42, +0.58, +0.70, +0.89, +1.18, +1.45,+1.63]\n"
   ]
  },
  {
   "cell_type": "markdown",
   "metadata": {},
   "source": [
    "## Exercise 5. Which Spectral Classes are identified in the Pleiades?"
   ]
  },
  {
   "cell_type": "markdown",
   "metadata": {},
   "source": [
    "Your Answer Here."
   ]
  },
  {
   "cell_type": "markdown",
   "metadata": {},
   "source": [
    "## Exercise 6. What are the reasons why some are missing?\n"
   ]
  },
  {
   "cell_type": "markdown",
   "metadata": {},
   "source": [
    "Your Answer Here."
   ]
  }
 ],
 "metadata": {
  "kernelspec": {
   "display_name": "Python 3",
   "language": "python",
   "name": "python3"
  },
  "language_info": {
   "codemirror_mode": {
    "name": "ipython",
    "version": 3
   },
   "file_extension": ".py",
   "mimetype": "text/x-python",
   "name": "python",
   "nbconvert_exporter": "python",
   "pygments_lexer": "ipython3",
   "version": "3.6.4"
  }
 },
 "nbformat": 4,
 "nbformat_minor": 2
}
