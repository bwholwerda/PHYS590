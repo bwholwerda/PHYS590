{
 "cells": [
  {
   "cell_type": "markdown",
   "metadata": {},
   "source": [
    "# Hubble Diagram using Cepheids\n",
    "\n",
    "## Authors\n",
    "B.W. Holwerda\n",
    "\n",
    "## Learning Goals\n",
    "* Understanding of the Cepheids as a Standard Candle\n",
    "* the Period Luminosity relation for Cepheids\n",
    "* Distances to nearby Galaxies\n",
    "* The Hubble Key Project\n",
    "* Correction of the observed velocities for local flow.\n",
    "\n",
    "## Keywords\n",
    "Cepheids, Hubble Constant, Hubble Diagram, Expansion of the Universe\n",
    "\n",
    "## Companion Content\n",
    "Ryden & Peterson's \"Foundations in Astrophysics\" \n",
    "\n",
    "## Summary\n",
    "\n",
    "The distance - redshift plot is known as the Hubble Diagram. It can be constucted by determining the absolute magnitudes of Cepheids and the redshift of their host galaxy or from Supernovae Type Ia and the redshift of the host galaxy.\n",
    "<hr>"
   ]
  },
  {
   "cell_type": "markdown",
   "metadata": {},
   "source": [
    "\n",
    "## Student Name and ID:\n",
    "\n",
    "\n",
    "\n",
    "## Date:\n",
    "\n",
    "<hr>"
   ]
  },
  {
   "cell_type": "markdown",
   "metadata": {},
   "source": [
    "* Cepheid distances and redshifts from the Hubble Space Telescope's Key Project to determine the Hubble constant.\n",
    "\n",
    "* load in the table from Freedman et al. and plot the redshift distance modulus from the Cepheids found in nearby (relatively speaking) Cepheids\n",
    "\n",
    "* plot the "
   ]
  },
  {
   "cell_type": "markdown",
   "metadata": {},
   "source": [
    "## I - Cepheid Distances to M100"
   ]
  },
  {
   "cell_type": "markdown",
   "metadata": {},
   "source": [
    "First we will use the Cepheid - Luminosity relation (Leavitt\\'s Law) to determine the distance to the face-on spiral galaxy M100. The periods and apparent magnitude of the Cepheids in this galaxy were presented by Freedman+ (1994) and Ferrarese+ (1996) as the first results of the Hubble Space Telescope Key Project.\n",
    "\n",
    "The relation between the *absolute* magnitude of a Cepheid and their period is: \n",
    "\n",
    "$$ M_V = -2.43 \\pm 0.12 \\times ( log_{10} P - 1 ) - 4.05 \\pm 0.02 $$\n",
    "                                                 M   \n",
    "Read in the file M100_Cepheids.csv and convert the reported Periods and apparent magnitudes into Absolute magnitudes and distance moduli for all the Cepheids.                                                \n",
    "                                                "
   ]
  },
  {
   "cell_type": "code",
   "execution_count": 1,
   "metadata": {},
   "outputs": [
    {
     "name": "stdout",
     "output_type": "stream",
     "text": [
      " ID Period   mV   DeltaV <V-I> (V-I)   V0  \n",
      "--- ------ ------ ------ ----- ----- ------\n",
      " C2   66.2 25.159  0.445 1.296 1.254 24.264\n",
      " C4   54.0 25.224  0.857 1.235 1.074 24.446\n",
      " C5   53.4 25.035  0.655 1.075 0.947  24.64\n",
      " C6   52.0 25.221  0.834 0.689 0.674 25.221\n",
      " C7   50.6 24.758  0.671 0.891 0.868 24.758\n",
      " C8   50.2 24.981  0.439 0.939 0.881 24.839\n",
      " C9   50.1 25.886  0.597 0.989 0.947 25.522\n",
      "C10   50.0 24.702  0.674 0.899 0.766 24.702\n",
      "C11   48.0 25.492  0.828 1.127 0.913 24.953\n",
      "C12   47.9 25.304  0.778 1.323 1.063 24.435\n",
      "...    ...    ...    ...   ...   ...    ...\n",
      "C56   21.3  26.25  1.858 0.766 0.372  26.25\n",
      "C57   20.2 26.436   0.56 1.246 1.065 25.592\n",
      "C58   19.9 25.733   1.05 0.587 0.447 25.733\n",
      "C59   19.0 25.491   0.96 0.619 0.555 25.491\n",
      "C60   17.1 26.174  0.855 1.184 1.027 25.337\n",
      "C62   17.9   26.1  1.374 0.961 0.567 25.788\n",
      "C63   17.6 26.092  1.213 1.193 0.843 26.092\n",
      "C64   17.1 25.803  0.787  0.51 0.484 25.803\n",
      "C65   15.2 25.937  0.729 0.529 0.357 25.937\n",
      "C66   15.7  26.28  1.121 0.451 0.154  26.28\n",
      "C67   14.1 26.458  0.774 1.315 1.308 26.458\n",
      "Length = 60 rows\n"
     ]
    }
   ],
   "source": [
    "from astropy.table import Table\n",
    "import numpy as np\n",
    "import matplotlib.pyplot as plt\n",
    "from pylab import *\n",
    "\n",
    "\n",
    "t = Table.read('M100_Cepheids.csv', format='ascii.csv')\n",
    "print(t)\n",
    "\n",
    "# ID - number in Cepheid catalog.\n",
    "# Period - variability in days\n",
    "# mV - apparent magnitude in V-band   \n",
    "# DeltaV <V-I> \n",
    "# (V-I)   V-I color\n",
    "# V0  "
   ]
  },
  {
   "cell_type": "markdown",
   "metadata": {},
   "source": [
    "## 1 Calculate the Absolute magnitude of each Cepheid based on the period"
   ]
  },
  {
   "cell_type": "code",
   "execution_count": 2,
   "metadata": {},
   "outputs": [],
   "source": [
    "# student answer here"
   ]
  },
  {
   "cell_type": "markdown",
   "metadata": {},
   "source": [
    "The distance modulus ($\\mu$) to an object is related by the relation:\n",
    "\n",
    "$$ \\mu = m-M = 5 log_{10} (d) -5 $$\n",
    "\n",
    "d is the distance in parsec. \n"
   ]
  },
  {
   "cell_type": "markdown",
   "metadata": {},
   "source": [
    "# 2. Calculate the distance modulus for each of the Cepheids based on their apparent (observed) magnitude and the Absolute one based on their Period"
   ]
  },
  {
   "cell_type": "code",
   "execution_count": 3,
   "metadata": {},
   "outputs": [],
   "source": [
    "# student answer here\n"
   ]
  },
  {
   "cell_type": "markdown",
   "metadata": {},
   "source": [
    "## 3. calculate the implied distances in Mpc. Make a histogram of the distances."
   ]
  },
  {
   "cell_type": "code",
   "execution_count": 4,
   "metadata": {},
   "outputs": [],
   "source": [
    "# student answer here\n"
   ]
  },
  {
   "cell_type": "code",
   "execution_count": 5,
   "metadata": {},
   "outputs": [],
   "source": [
    "# student answer here, make histogram\n",
    "# print(np.mean(D),np.std(D))\n"
   ]
  },
  {
   "cell_type": "markdown",
   "metadata": {},
   "source": [
    "## II M100's Redshift\n",
    "\n",
    "$$(1+z) = { \\lambda_{obs} \\over \\lambda_{emit} }$$\n",
    "\n",
    "The H$\\alpha$ emission line is observed for M100. The rest-frame wavelength of H$\\alpha$ is 656.28nm. The velocity away from us of M100 is v = 1856 km/s. What is the redshift (z) of M100? At what wavelength is the Halpha emission from M100 observed? "
   ]
  },
  {
   "cell_type": "code",
   "execution_count": 6,
   "metadata": {},
   "outputs": [],
   "source": [
    "v = 1856. # km/s\n",
    "c = 300000.\n",
    "Ha = 656.28\n",
    "\n",
    "z = v/c\n"
   ]
  },
  {
   "cell_type": "markdown",
   "metadata": {},
   "source": [
    "The recessional velocity of M100 is v= 1856 km/s, what is the Hubble constant from *just our measurement of M100 alone?*\n",
    "\n",
    "The Hubble relation between distance (D) and recessional velocity is:\n",
    "\n",
    "$$ v = H_0 \\times D $$\n",
    "\n",
    "where $H_0$ is the Hubble constant."
   ]
  },
  {
   "cell_type": "markdown",
   "metadata": {},
   "source": [
    "## 4. compute the Hubble constant for M100 based on the Cepheids"
   ]
  },
  {
   "cell_type": "code",
   "execution_count": 7,
   "metadata": {},
   "outputs": [],
   "source": [
    "# student answer here"
   ]
  },
  {
   "cell_type": "markdown",
   "metadata": {},
   "source": [
    "## III - The Hubble Key Project; Cepheid Distances"
   ]
  },
  {
   "cell_type": "markdown",
   "metadata": {},
   "source": [
    "By combining all the Cepheid Distances from the Key Project with the recession velocity to obtain the Hubble Diagram, we can now determine the value of the Hubble constant. "
   ]
  },
  {
   "cell_type": "code",
   "execution_count": 9,
   "metadata": {},
   "outputs": [
    {
     "name": "stdout",
     "output_type": "stream",
     "text": [
      "   Name   DistModV sigV Ncepheids DistModV2 ... DistModV3 sigV3 Ncepheids2 note\n",
      "--------- -------- ---- --------- --------- ... --------- ----- ---------- ----\n",
      "  NGC 300    26.62  0.1        16     26.53 ...     26.53  0.07         14    2\n",
      "  NGC 925    29.94 0.04        73      29.8 ...      29.8  0.04         72    4\n",
      "NGC 1326A    31.16  0.1        17      31.0 ...     31.04  0.09         15    5\n",
      " NGC 1365    31.38 0.05        52      31.2 ...     31.18  0.05         47    6\n",
      " NGC 1425    31.73 0.05        29     31.54 ...      31.6  0.05         20    7\n",
      " NGC 2403    27.59 0.24        10     27.48 ...     27.48  0.24         10    9\n",
      " NGC 2541    30.43 0.07        34     30.26 ...     30.25  0.05         29   10\n",
      " NGC 2090    30.42 0.04        34     30.27 ...     30.29  0.04         30    8\n",
      " NGC 3031    27.75 0.07        25     27.67 ...     27.75  0.08         17   11\n",
      " NGC 3198     30.8 0.08        42     30.64 ...     30.68  0.08         36   12\n",
      "      ...      ...  ...       ...       ... ...       ...   ...        ...  ...\n",
      " NGC 4321    30.93 0.07        52     30.75 ...     30.78  0.07         42   19\n",
      " NGC 4414    31.37 0.09         9     31.18 ...      31.1  0.05          8   20\n",
      "NGC 4496A    30.98 0.03        98      30.8 ...     30.81  0.03         94   17\n",
      " NGC 4548    31.03 0.05        24     30.88 ...     30.88  0.05         24   22\n",
      " NGC 4535    31.02 0.05        50     30.84 ...     30.85  0.05         47   21\n",
      " NGC 4536    30.95 0.04        39     30.78 ...      30.8  0.04         35   17\n",
      " NGC 4639     31.8 0.07        17     31.59 ...     31.61  0.08         14   17\n",
      " NGC 4725     30.5 0.06        20     30.33 ...     30.38  0.06         15   17\n",
      "  IC 4182    28.36 0.06        18     28.26 ...     28.28  0.06         16   17\n",
      " NGC 5253     27.6  0.1         7     27.54 ...     27.56  0.14          4   17\n",
      " NGC 7331     30.9 0.09        13     30.81 ...     30.81  0.09         13   24\n",
      "Length = 24 rows\n"
     ]
    }
   ],
   "source": [
    "# read in the Key Project data\n",
    "t2 = Table.read('KeyProject_Distances.csv', format='ascii.csv')\n",
    "print(t2)\n",
    "\n",
    "# Name   \n",
    "# DistModV - average distance modulus in V\n",
    "# sigV - scatter\n",
    "# Ncepheids - number of Cepheids\n",
    "# other distance moduli with different cuts in the Cepheid selection\n",
    "# DistModV2 ... DistModV3 sigV3 Ncepheids2 note\n"
   ]
  },
  {
   "cell_type": "code",
   "execution_count": 10,
   "metadata": {},
   "outputs": [
    {
     "name": "stdout",
     "output_type": "stream",
     "text": [
      "   Name   Vhelio VLG  VCMB VVirgo VGA  VShapley VTonry\n",
      "--------- ------ ---- ---- ------ ---- -------- ------\n",
      " NGC 0300    144  125  -57    114   92      133   -140\n",
      " NGC 0925    553  781  398    778  561      664    374\n",
      "NGC 1326A   1836 1749 1787   1698 1742     1794   1164\n",
      " NGC 1365   1636 1544 1597   1503 1544     1594   1157\n",
      " NGC 1425   1512 1440 1477   1403 1417     1473   1465\n",
      " NGC 2403    131  300  216    343  222      278    193\n",
      " NGC 2541    559  646  736    744  674      714    936\n",
      " NGC 2090    931  757 1057    805  869      882    926\n",
      " NGC 3031    -34  127   65    139   43       80    246\n",
      " NGC 3198    662  704  890    768  765      772    848\n",
      "      ...    ...  ...  ...    ...  ...      ...    ...\n",
      " NGC 4321   1571 1469 1856   1350 1501     1433   1436\n",
      " NGC 4414    716  693  959    586  661      619   1215\n",
      "NGC 4496A   1730 1575 2024   1350 1518     1424   1467\n",
      " NGC 4548    486  381  763   1350 1460     1384   1421\n",
      " NGC 4535   1961 1826 2248   1350 1530     1444   1410\n",
      " NGC 4536   1804 1642 2097   1350 1521     1423   1463\n",
      " NGC 4639   1010  902 1283   1350 1481     1403   1448\n",
      " NGC 4725   1206 1161 1446   1040 1156     1103   1225\n",
      " IC  4182    321  344  513    312  355      318    636\n",
      " NGC 5253    404  156  612    160  349      232    800\n",
      " NGC 7331    816 1110  508   1099  912      999    820\n",
      "Length = 24 rows\n"
     ]
    }
   ],
   "source": [
    "# read in Key Project velocities\n",
    "t3 = Table.read('KeyProject_Velocities.csv', format='ascii.csv')\n",
    "print(t3)\n",
    "\n",
    "# Name   \n",
    "# Vhelio - heliocentric velocity\n",
    "# VLG - local group corrected\n",
    "# VCMB -  with resepct to the CMB\n",
    "# VVirgo - corrected for motion towards the Virgo Cluster\n",
    "# VGA - corrected for motion towards great attractor \n",
    "# VShapley - corrected for motion towards Shapley cluster\n",
    "# VTonry - corrected for all large scale structure motions\n"
   ]
  },
  {
   "cell_type": "markdown",
   "metadata": {},
   "source": [
    "## 5. Pick a distance modulus and plot it against recessional velocity (heliocentric and one other)\n",
    "\n",
    "Does the scatter or distance relation change going from Heliocentric to a LSS corrected one?"
   ]
  },
  {
   "cell_type": "code",
   "execution_count": 11,
   "metadata": {},
   "outputs": [],
   "source": [
    "# e.g.\n",
    "mu = t2['DistModV']\n",
    "v_tonry = t3['VTonry']\n",
    "v_helio = t3['Vhelio']\n",
    "v_cmb = t3['VCMB']\n",
    "\n",
    "# student answer here"
   ]
  },
  {
   "cell_type": "markdown",
   "metadata": {},
   "source": [
    "## 6. Which velocit is a better 'restframe'?"
   ]
  },
  {
   "cell_type": "markdown",
   "metadata": {},
   "source": [
    "*your answer here*\n",
    "\n"
   ]
  },
  {
   "cell_type": "markdown",
   "metadata": {},
   "source": [
    "## 7. Hubble Plot Make a velocity-distance plot and compare against the current values of H0\n",
    "\n",
    "Plot one of the large-scale structure corrected velocities against distance from the Cepheid distance modulus.\n"
   ]
  },
  {
   "cell_type": "code",
   "execution_count": 13,
   "metadata": {},
   "outputs": [],
   "source": [
    "# this is the relation between velocity and distance for the current value of the Hubble Constant.\n",
    "vv = np.arange(0,1500,1)\n",
    "dd = vv/73. # H0 = 73 Mpc/km/s\n"
   ]
  },
  {
   "cell_type": "code",
   "execution_count": null,
   "metadata": {},
   "outputs": [],
   "source": []
  }
 ],
 "metadata": {
  "kernelspec": {
   "display_name": "Python 3",
   "language": "python",
   "name": "python3"
  },
  "language_info": {
   "codemirror_mode": {
    "name": "ipython",
    "version": 3
   },
   "file_extension": ".py",
   "mimetype": "text/x-python",
   "name": "python",
   "nbconvert_exporter": "python",
   "pygments_lexer": "ipython3",
   "version": "3.5.4"
  }
 },
 "nbformat": 4,
 "nbformat_minor": 2
}
